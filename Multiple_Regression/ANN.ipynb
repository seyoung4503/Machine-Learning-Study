{
 "cells": [
  {
   "cell_type": "markdown",
   "metadata": {},
   "source": [
    "### 인공 신경망"
   ]
  },
  {
   "cell_type": "code",
   "execution_count": 1,
   "metadata": {},
   "outputs": [
    {
     "name": "stderr",
     "output_type": "stream",
     "text": [
      "/var/folders/lx/t6fh69qs69d9s21bvsl3_ynr0000gn/T/ipykernel_12154/124189236.py:8: DeprecationWarning: `np.int` is a deprecated alias for the builtin `int`. To silence this warning, use `int` by itself. Doing this will not modify any behavior and is safe. When replacing `np.int`, you may wish to use e.g. `np.int64` or `np.int32` to specify the precision. If you wish to review your current use, check the release note link for additional information.\n",
      "Deprecated in NumPy 1.20; for more details and guidance: https://numpy.org/devdocs/release/1.20.0-notes.html#deprecations\n",
      "  y = (iris.target == 0).astype(np.int)\n"
     ]
    }
   ],
   "source": [
    "import numpy as np\n",
    "from sklearn.datasets import load_iris\n",
    "\n",
    "from sklearn.linear_model import Perceptron\n",
    "\n",
    "iris = load_iris()\n",
    "X = iris.data[:, (2, 3)]\n",
    "y = (iris.target == 0).astype(np.int)\n",
    "\n",
    "per_clf = Perceptron()\n",
    "per_clf.fit(X, y)\n",
    "\n",
    "y_pred = per_clf.predict([[2, 0.5]])"
   ]
  },
  {
   "cell_type": "markdown",
   "metadata": {},
   "source": [
    "### ANN\n",
    "#### Perceptron : TLU (step function)\n",
    "#### DNN"
   ]
  },
  {
   "cell_type": "code",
   "execution_count": 2,
   "metadata": {},
   "outputs": [
    {
     "data": {
      "text/plain": [
       "'2.15.0'"
      ]
     },
     "execution_count": 2,
     "metadata": {},
     "output_type": "execute_result"
    }
   ],
   "source": [
    "import tensorflow as tf\n",
    "from tensorflow import keras\n",
    "\n",
    "tf.__version__"
   ]
  },
  {
   "cell_type": "code",
   "execution_count": 6,
   "metadata": {},
   "outputs": [],
   "source": [
    "fashion_mnist = keras.datasets.fashion_mnist\n",
    "(X_train_full, y_train_full), (X_test, y_test) = fashion_mnist.load_data()"
   ]
  },
  {
   "cell_type": "code",
   "execution_count": 7,
   "metadata": {},
   "outputs": [
    {
     "data": {
      "text/plain": [
       "(60000, 28, 28)"
      ]
     },
     "execution_count": 7,
     "metadata": {},
     "output_type": "execute_result"
    }
   ],
   "source": [
    "X_train_full.shape"
   ]
  },
  {
   "cell_type": "code",
   "execution_count": 8,
   "metadata": {},
   "outputs": [
    {
     "data": {
      "text/plain": [
       "dtype('uint8')"
      ]
     },
     "execution_count": 8,
     "metadata": {},
     "output_type": "execute_result"
    }
   ],
   "source": [
    "X_train_full.dtype"
   ]
  },
  {
   "cell_type": "code",
   "execution_count": 10,
   "metadata": {},
   "outputs": [],
   "source": [
    "X_vaild, X_train = X_train_full[:5000] / 255.0, X_train_full[5000:] / 255.0\n",
    "y_vaild, y_train = y_train_full[:5000], y_train_full[5000:]\n",
    "X_test = X_test / 255.0"
   ]
  },
  {
   "cell_type": "code",
   "execution_count": 11,
   "metadata": {},
   "outputs": [],
   "source": [
    "class_name = [\"Tshirts\", \"Trouser\", \"Pullover\", \"Dress\", \"Coat\", \"Sandal\", \"Shirt\", \"Sneaker\", \"Bag\", \"Ankel boot\"]"
   ]
  },
  {
   "cell_type": "code",
   "execution_count": 12,
   "metadata": {},
   "outputs": [
    {
     "data": {
      "text/plain": [
       "'Coat'"
      ]
     },
     "execution_count": 12,
     "metadata": {},
     "output_type": "execute_result"
    }
   ],
   "source": [
    "class_name[y_train[0]]"
   ]
  },
  {
   "cell_type": "code",
   "execution_count": 23,
   "metadata": {},
   "outputs": [],
   "source": [
    "model = keras.models.Sequential()\n",
    "model.add(keras.layers.Flatten(input_shape =[28, 28]))\n",
    "model.add(keras.layers.Dense(300, activation='relu'))\n",
    "model.add(keras.layers.Dense(100, activation='relu'))\n",
    "model.add(keras.layers.Dense(10, activation='softmax'))"
   ]
  },
  {
   "cell_type": "code",
   "execution_count": 14,
   "metadata": {},
   "outputs": [
    {
     "name": "stdout",
     "output_type": "stream",
     "text": [
      "Model: \"sequential\"\n",
      "_________________________________________________________________\n",
      " Layer (type)                Output Shape              Param #   \n",
      "=================================================================\n",
      " flatten (Flatten)           (None, 784)               0         \n",
      "                                                                 \n",
      " dense (Dense)               (None, 300)               235500    \n",
      "                                                                 \n",
      " dense_1 (Dense)             (None, 100)               30100     \n",
      "                                                                 \n",
      " dense_2 (Dense)             (None, 10)                1010      \n",
      "                                                                 \n",
      "=================================================================\n",
      "Total params: 266610 (1.02 MB)\n",
      "Trainable params: 266610 (1.02 MB)\n",
      "Non-trainable params: 0 (0.00 Byte)\n",
      "_________________________________________________________________\n"
     ]
    }
   ],
   "source": [
    "model.summary()"
   ]
  },
  {
   "cell_type": "code",
   "execution_count": 15,
   "metadata": {},
   "outputs": [
    {
     "data": {
      "text/plain": [
       "array([[-0.04229334,  0.02003381,  0.05379018, ...,  0.04297861,\n",
       "         0.03997729, -0.01591972],\n",
       "       [-0.03399736, -0.05461124,  0.03495067, ..., -0.05268855,\n",
       "        -0.03813213, -0.07114702],\n",
       "       [ 0.03252406, -0.02331918, -0.02936111, ...,  0.04411807,\n",
       "        -0.00588526,  0.06069176],\n",
       "       ...,\n",
       "       [-0.05580724,  0.03517061,  0.06221692, ..., -0.00755796,\n",
       "         0.01409215, -0.05738231],\n",
       "       [-0.00359009, -0.02918533,  0.03137223, ...,  0.01869266,\n",
       "         0.03293087, -0.07385597],\n",
       "       [-0.01025351, -0.05036231,  0.0335895 , ...,  0.02481538,\n",
       "        -0.01482551,  0.0689225 ]], dtype=float32)"
      ]
     },
     "execution_count": 15,
     "metadata": {},
     "output_type": "execute_result"
    }
   ],
   "source": [
    "weights, biases = model.layers[1].get_weights()\n",
    "\n",
    "weights"
   ]
  },
  {
   "cell_type": "code",
   "execution_count": 28,
   "metadata": {},
   "outputs": [],
   "source": [
    "model.compile(loss=\"sparse_categorical_crossentropy\", optimizer=\"sgd\", metrics=[\"accuracy\"])"
   ]
  },
  {
   "cell_type": "code",
   "execution_count": 29,
   "metadata": {},
   "outputs": [
    {
     "name": "stdout",
     "output_type": "stream",
     "text": [
      "Epoch 1/30\n",
      "1719/1719 [==============================] - 2s 882us/step - loss: 0.7150 - accuracy: 0.7641 - val_loss: 0.5828 - val_accuracy: 0.7980\n",
      "Epoch 2/30\n",
      "1719/1719 [==============================] - 1s 788us/step - loss: 0.4893 - accuracy: 0.8307 - val_loss: 0.4671 - val_accuracy: 0.8338\n",
      "Epoch 3/30\n",
      "1719/1719 [==============================] - 1s 748us/step - loss: 0.4449 - accuracy: 0.8439 - val_loss: 0.4346 - val_accuracy: 0.8500\n",
      "Epoch 4/30\n",
      "1719/1719 [==============================] - 1s 744us/step - loss: 0.4160 - accuracy: 0.8544 - val_loss: 0.4057 - val_accuracy: 0.8606\n",
      "Epoch 5/30\n",
      "1719/1719 [==============================] - 1s 749us/step - loss: 0.3971 - accuracy: 0.8609 - val_loss: 0.3844 - val_accuracy: 0.8660\n",
      "Epoch 6/30\n",
      "1719/1719 [==============================] - 1s 735us/step - loss: 0.3791 - accuracy: 0.8667 - val_loss: 0.3764 - val_accuracy: 0.8692\n",
      "Epoch 7/30\n",
      "1719/1719 [==============================] - 1s 742us/step - loss: 0.3669 - accuracy: 0.8700 - val_loss: 0.3699 - val_accuracy: 0.8688\n",
      "Epoch 8/30\n",
      "1719/1719 [==============================] - 1s 756us/step - loss: 0.3535 - accuracy: 0.8748 - val_loss: 0.3780 - val_accuracy: 0.8718\n",
      "Epoch 9/30\n",
      "1719/1719 [==============================] - 1s 766us/step - loss: 0.3429 - accuracy: 0.8782 - val_loss: 0.3554 - val_accuracy: 0.8778\n",
      "Epoch 10/30\n",
      "1719/1719 [==============================] - 1s 760us/step - loss: 0.3333 - accuracy: 0.8811 - val_loss: 0.3436 - val_accuracy: 0.8794\n",
      "Epoch 11/30\n",
      "1719/1719 [==============================] - 1s 757us/step - loss: 0.3240 - accuracy: 0.8831 - val_loss: 0.3337 - val_accuracy: 0.8824\n",
      "Epoch 12/30\n",
      "1719/1719 [==============================] - 1s 806us/step - loss: 0.3168 - accuracy: 0.8861 - val_loss: 0.3600 - val_accuracy: 0.8706\n",
      "Epoch 13/30\n",
      "1719/1719 [==============================] - 1s 833us/step - loss: 0.3091 - accuracy: 0.8886 - val_loss: 0.3290 - val_accuracy: 0.8836\n",
      "Epoch 14/30\n",
      "1719/1719 [==============================] - 1s 753us/step - loss: 0.3026 - accuracy: 0.8915 - val_loss: 0.3294 - val_accuracy: 0.8832\n",
      "Epoch 15/30\n",
      "1719/1719 [==============================] - 1s 827us/step - loss: 0.2954 - accuracy: 0.8946 - val_loss: 0.3389 - val_accuracy: 0.8816\n",
      "Epoch 16/30\n",
      "1719/1719 [==============================] - 1s 752us/step - loss: 0.2894 - accuracy: 0.8949 - val_loss: 0.3421 - val_accuracy: 0.8778\n",
      "Epoch 17/30\n",
      "1719/1719 [==============================] - 1s 774us/step - loss: 0.2845 - accuracy: 0.8984 - val_loss: 0.3155 - val_accuracy: 0.8876\n",
      "Epoch 18/30\n",
      "1719/1719 [==============================] - 1s 756us/step - loss: 0.2775 - accuracy: 0.9004 - val_loss: 0.3176 - val_accuracy: 0.8848\n",
      "Epoch 19/30\n",
      "1719/1719 [==============================] - 1s 813us/step - loss: 0.2726 - accuracy: 0.9018 - val_loss: 0.3152 - val_accuracy: 0.8860\n",
      "Epoch 20/30\n",
      "1719/1719 [==============================] - 1s 757us/step - loss: 0.2677 - accuracy: 0.9030 - val_loss: 0.3105 - val_accuracy: 0.8908\n",
      "Epoch 21/30\n",
      "1719/1719 [==============================] - 1s 770us/step - loss: 0.2626 - accuracy: 0.9054 - val_loss: 0.3174 - val_accuracy: 0.8866\n",
      "Epoch 22/30\n",
      "1719/1719 [==============================] - 1s 763us/step - loss: 0.2578 - accuracy: 0.9065 - val_loss: 0.3079 - val_accuracy: 0.8882\n",
      "Epoch 23/30\n",
      "1719/1719 [==============================] - 1s 806us/step - loss: 0.2536 - accuracy: 0.9084 - val_loss: 0.2988 - val_accuracy: 0.8882\n",
      "Epoch 24/30\n",
      "1719/1719 [==============================] - 1s 758us/step - loss: 0.2489 - accuracy: 0.9102 - val_loss: 0.3206 - val_accuracy: 0.8864\n",
      "Epoch 25/30\n",
      "1719/1719 [==============================] - 1s 760us/step - loss: 0.2455 - accuracy: 0.9121 - val_loss: 0.3170 - val_accuracy: 0.8848\n",
      "Epoch 26/30\n",
      "1719/1719 [==============================] - 1s 765us/step - loss: 0.2406 - accuracy: 0.9138 - val_loss: 0.3063 - val_accuracy: 0.8892\n",
      "Epoch 27/30\n",
      "1719/1719 [==============================] - 1s 757us/step - loss: 0.2369 - accuracy: 0.9152 - val_loss: 0.3004 - val_accuracy: 0.8956\n",
      "Epoch 28/30\n",
      "1719/1719 [==============================] - 1s 745us/step - loss: 0.2336 - accuracy: 0.9154 - val_loss: 0.3054 - val_accuracy: 0.8902\n",
      "Epoch 29/30\n",
      "1719/1719 [==============================] - 1s 767us/step - loss: 0.2283 - accuracy: 0.9183 - val_loss: 0.2979 - val_accuracy: 0.8920\n",
      "Epoch 30/30\n",
      "1719/1719 [==============================] - 1s 780us/step - loss: 0.2256 - accuracy: 0.9196 - val_loss: 0.3084 - val_accuracy: 0.8854\n"
     ]
    }
   ],
   "source": [
    "history = model.fit(X_train, y_train, epochs=30, validation_data=(X_vaild, y_vaild))"
   ]
  },
  {
   "cell_type": "code",
   "execution_count": 26,
   "metadata": {},
   "outputs": [
    {
     "name": "stdout",
     "output_type": "stream",
     "text": [
      "(55000, 28, 28)\n",
      "(55000,)\n",
      "(5000, 28, 28)\n",
      "(5000,)\n"
     ]
    }
   ],
   "source": [
    "print(X_train.shape)\n",
    "print(y_train.shape)\n",
    "print(X_vaild.shape)\n",
    "print(y_vaild.shape)"
   ]
  },
  {
   "cell_type": "code",
   "execution_count": 27,
   "metadata": {},
   "outputs": [
    {
     "name": "stdout",
     "output_type": "stream",
     "text": [
      "55000\n",
      "55000\n",
      "5000\n",
      "5000\n"
     ]
    }
   ],
   "source": [
    "print(len(X_train))\n",
    "print(len(y_train))\n",
    "print(len(X_vaild))\n",
    "print(len(y_vaild))\n"
   ]
  },
  {
   "cell_type": "code",
   "execution_count": 30,
   "metadata": {},
   "outputs": [
    {
     "data": {
      "image/png": "[encoded data removed]",
      "text/plain": [
       "<Figure size 800x500 with 1 Axes>"
      ]
     },
     "metadata": {},
     "output_type": "display_data"
    }
   ],
   "source": [
    "import pandas as pd\n",
    "import matplotlib.pyplot as plt\n",
    "\n",
    "pd.DataFrame(history.history).plot(figsize=(8, 5))\n",
    "plt.grid(True)\n",
    "plt.gca().set_ylim(0,1)\n",
    "plt.show()"
   ]
  },
  {
   "cell_type": "code",
   "execution_count": 32,
   "metadata": {},
   "outputs": [
    {
     "name": "stdout",
     "output_type": "stream",
     "text": [
      "313/313 [==============================] - 0s 482us/step - loss: 0.3381 - accuracy: 0.8800\n"
     ]
    },
    {
     "data": {
      "text/plain": [
       "[0.33812272548675537, 0.8799999952316284]"
      ]
     },
     "execution_count": 32,
     "metadata": {},
     "output_type": "execute_result"
    }
   ],
   "source": [
    "model.evaluate(X_test, y_test)"
   ]
  },
  {
   "cell_type": "code",
   "execution_count": 33,
   "metadata": {},
   "outputs": [
    {
     "name": "stdout",
     "output_type": "stream",
     "text": [
      "1/1 [==============================] - 0s 66ms/step\n"
     ]
    },
    {
     "data": {
      "text/plain": [
       "array([[0.  , 0.  , 0.  , 0.  , 0.  , 0.  , 0.  , 0.01, 0.  , 0.99],\n",
       "       [0.  , 0.  , 1.  , 0.  , 0.  , 0.  , 0.  , 0.  , 0.  , 0.  ],\n",
       "       [0.  , 1.  , 0.  , 0.  , 0.  , 0.  , 0.  , 0.  , 0.  , 0.  ]],\n",
       "      dtype=float32)"
      ]
     },
     "execution_count": 33,
     "metadata": {},
     "output_type": "execute_result"
    }
   ],
   "source": [
    "X_new = X_test[:3]\n",
    "y_proba = model.predict(X_new)\n",
    "y_proba.round(2)"
   ]
  },
  {
   "cell_type": "code",
   "execution_count": 35,
   "metadata": {},
   "outputs": [
    {
     "ename": "AttributeError",
     "evalue": "'Sequential' object has no attribute 'predict_classes'",
     "output_type": "error",
     "traceback": [
      "\u001b[0;31m---------------------------------------------------------------------------\u001b[0m",
      "\u001b[0;31mAttributeError\u001b[0m                            Traceback (most recent call last)",
      "Cell \u001b[0;32mIn[35], line 1\u001b[0m\n\u001b[0;32m----> 1\u001b[0m y_pred \u001b[38;5;241m=\u001b[39m \u001b[43mmodel\u001b[49m\u001b[38;5;241;43m.\u001b[39;49m\u001b[43mpredict_classes\u001b[49m(X_new)\n\u001b[1;32m      2\u001b[0m y_pred\n",
      "\u001b[0;31mAttributeError\u001b[0m: 'Sequential' object has no attribute 'predict_classes'"
     ]
    }
   ],
   "source": [
    "y_pred = model.predict_classes(X_new)\n",
    "y_pred"
   ]
  },
  {
   "cell_type": "markdown",
   "metadata": {},
   "source": [
    "### Wide & Deep \n",
    "복잡한 패턴 + 간단한 규칙 모두 학습 가능"
   ]
  },
  {
   "cell_type": "code",
   "execution_count": 44,
   "metadata": {},
   "outputs": [
    {
     "name": "stderr",
     "output_type": "stream",
     "text": [
      "WARNING:absl:At this time, the v2.11+ optimizer `tf.keras.optimizers.SGD` runs slowly on M1/M2 Macs, please use the legacy Keras optimizer instead, located at `tf.keras.optimizers.legacy.SGD`.\n"
     ]
    },
    {
     "name": "stdout",
     "output_type": "stream",
     "text": [
      "Epoch 1/20\n",
      "363/363 [==============================] - 1s 1ms/step - loss: 2.3775 - val_loss: 3.8809\n",
      "Epoch 2/20\n",
      "363/363 [==============================] - 0s 355us/step - loss: 0.7462 - val_loss: 1.2141\n",
      "Epoch 3/20\n",
      "363/363 [==============================] - 0s 416us/step - loss: 0.6466 - val_loss: 0.8460\n",
      "Epoch 4/20\n",
      "363/363 [==============================] - 0s 472us/step - loss: 0.5978 - val_loss: 0.6499\n",
      "Epoch 5/20\n",
      "363/363 [==============================] - 0s 353us/step - loss: 0.5593 - val_loss: 0.5970\n",
      "Epoch 6/20\n",
      "363/363 [==============================] - 0s 354us/step - loss: 0.5295 - val_loss: 0.5446\n",
      "Epoch 7/20\n",
      "363/363 [==============================] - 0s 360us/step - loss: 0.5064 - val_loss: 0.5714\n",
      "Epoch 8/20\n",
      "363/363 [==============================] - 0s 385us/step - loss: 0.4880 - val_loss: 0.5081\n",
      "Epoch 9/20\n",
      "363/363 [==============================] - 0s 370us/step - loss: 0.4727 - val_loss: 0.5213\n",
      "Epoch 10/20\n",
      "363/363 [==============================] - 0s 367us/step - loss: 0.4596 - val_loss: 0.4662\n",
      "Epoch 11/20\n",
      "363/363 [==============================] - 0s 367us/step - loss: 0.4477 - val_loss: 0.4595\n",
      "Epoch 12/20\n",
      "363/363 [==============================] - 0s 367us/step - loss: 0.4388 - val_loss: 0.4454\n",
      "Epoch 13/20\n",
      "363/363 [==============================] - 0s 357us/step - loss: 0.4306 - val_loss: 0.4376\n",
      "Epoch 14/20\n",
      "363/363 [==============================] - 0s 357us/step - loss: 0.4231 - val_loss: 0.4330\n",
      "Epoch 15/20\n",
      "363/363 [==============================] - 0s 357us/step - loss: 0.4161 - val_loss: 0.4243\n",
      "Epoch 16/20\n",
      "363/363 [==============================] - 0s 358us/step - loss: 0.4110 - val_loss: 0.4521\n",
      "Epoch 17/20\n",
      "363/363 [==============================] - 0s 358us/step - loss: 0.4056 - val_loss: 0.4333\n",
      "Epoch 18/20\n",
      "363/363 [==============================] - 0s 353us/step - loss: 0.4012 - val_loss: 0.4228\n",
      "Epoch 19/20\n",
      "363/363 [==============================] - 0s 355us/step - loss: 0.3963 - val_loss: 0.4653\n",
      "Epoch 20/20\n",
      "363/363 [==============================] - 0s 355us/step - loss: 0.3927 - val_loss: 0.4817\n",
      "162/162 [==============================] - 0s 236us/step - loss: 0.3972\n"
     ]
    }
   ],
   "source": [
    "from sklearn.datasets import fetch_california_housing\n",
    "from sklearn.model_selection import train_test_split\n",
    "from sklearn.preprocessing import StandardScaler\n",
    "\n",
    "housing = fetch_california_housing()\n",
    "X_train_full, X_test, y_train_full, y_test = train_test_split(housing.data, housing.target)\n",
    "X_train, X_valid, y_train, y_valid = train_test_split(X_train_full, y_train_full)\n",
    "\n",
    "scaler = StandardScaler()\n",
    "X_train = scaler.fit_transform(X_train)\n",
    "X_valid = scaler.transform(X_valid)\n",
    "X_test = scaler.transform(X_test)\n",
    "\n",
    "\n",
    "\n",
    "\n",
    "input_ = keras.layers.Input(shape=X_train.shape[1:])\n",
    "hidden1 = keras.layers.Dense(30, activation='relu')(input_)\n",
    "hidden2 = keras.layers.Dense(30, activation='relu')(hidden1)\n",
    "concat = keras.layers.Concatenate()([input_, hidden2])\n",
    "output = keras.layers.Dense(1)(concat)\n",
    "model = keras.Model(inputs =[input_], outputs=[output])\n",
    "\n",
    "model.compile(loss=\"mean_squared_error\", optimizer=keras.optimizers.SGD(learning_rate=0.001))\n",
    "history = model.fit(X_train, y_train, epochs=20, validation_data=(X_valid, y_valid))\n",
    "\n",
    "# y_pred = model.predict()\n",
    "\n"
   ]
  },
  {
   "cell_type": "code",
   "execution_count": 45,
   "metadata": {},
   "outputs": [
    {
     "name": "stdout",
     "output_type": "stream",
     "text": [
      "1/1 [==============================] - 0s 25ms/step\n"
     ]
    },
    {
     "data": {
      "text/plain": [
       "array([[2.0305796],\n",
       "       [2.0849693],\n",
       "       [3.5142972]], dtype=float32)"
      ]
     },
     "execution_count": 45,
     "metadata": {},
     "output_type": "execute_result"
    }
   ],
   "source": [
    "X_new = X_test[:3]\n",
    "y_pred = model.predict(X_new)\n",
    "y_pred"
   ]
  },
  {
   "cell_type": "code",
   "execution_count": 46,
   "metadata": {},
   "outputs": [
    {
     "name": "stdout",
     "output_type": "stream",
     "text": [
      "162/162 [==============================] - 0s 269us/step - loss: 0.3972\n"
     ]
    }
   ],
   "source": [
    "mse_test = model.evaluate(X_test, y_test)"
   ]
  },
  {
   "cell_type": "code",
   "execution_count": null,
   "metadata": {},
   "outputs": [],
   "source": []
  },
  {
   "cell_type": "code",
   "execution_count": null,
   "metadata": {},
   "outputs": [],
   "source": []
  },
  {
   "cell_type": "code",
   "execution_count": null,
   "metadata": {},
   "outputs": [],
   "source": []
  },
  {
   "cell_type": "code",
   "execution_count": null,
   "metadata": {},
   "outputs": [],
   "source": []
  }
 ],
 "metadata": {
  "kernelspec": {
   "display_name": "base",
   "language": "python",
   "name": "python3"
  },
  "language_info": {
   "codemirror_mode": {
    "name": "ipython",
    "version": 3
   },
   "file_extension": ".py",
   "mimetype": "text/x-python",
   "name": "python",
   "nbconvert_exporter": "python",
   "pygments_lexer": "ipython3",
   "version": "3.10.9"
  }
 },
 "nbformat": 4,
 "nbformat_minor": 2
}
