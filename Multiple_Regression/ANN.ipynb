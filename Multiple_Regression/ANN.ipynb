{
 "cells": [
  {
   "cell_type": "markdown",
   "metadata": {},
   "source": [
    "### 인공 신경망"
   ]
  },
  {
   "cell_type": "code",
   "execution_count": 1,
   "metadata": {},
   "outputs": [
    {
     "name": "stderr",
     "output_type": "stream",
     "text": [
      "/var/folders/lx/t6fh69qs69d9s21bvsl3_ynr0000gn/T/ipykernel_70703/124189236.py:8: DeprecationWarning: `np.int` is a deprecated alias for the builtin `int`. To silence this warning, use `int` by itself. Doing this will not modify any behavior and is safe. When replacing `np.int`, you may wish to use e.g. `np.int64` or `np.int32` to specify the precision. If you wish to review your current use, check the release note link for additional information.\n",
      "Deprecated in NumPy 1.20; for more details and guidance: https://numpy.org/devdocs/release/1.20.0-notes.html#deprecations\n",
      "  y = (iris.target == 0).astype(np.int)\n"
     ]
    }
   ],
   "source": [
    "import numpy as np\n",
    "from sklearn.datasets import load_iris\n",
    "\n",
    "from sklearn.linear_model import Perceptron\n",
    "\n",
    "iris = load_iris()\n",
    "X = iris.data[:, (2, 3)]\n",
    "y = (iris.target == 0).astype(np.int)\n",
    "\n",
    "per_clf = Perceptron()\n",
    "per_clf.fit(X, y)\n",
    "\n",
    "y_pred = per_clf.predict([[2, 0.5]])"
   ]
  },
  {
   "cell_type": "markdown",
   "metadata": {},
   "source": [
    "### ANN\n",
    "#### Perceptron : TLU (step function)\n",
    "#### DNN"
   ]
  },
  {
   "cell_type": "code",
   "execution_count": 2,
   "metadata": {},
   "outputs": [
    {
     "name": "stderr",
     "output_type": "stream",
     "text": [
      "/Users/seyeong/anaconda3/lib/python3.10/site-packages/pandas/core/arrays/masked.py:60: UserWarning: Pandas requires version '1.3.6' or newer of 'bottleneck' (version '1.3.5' currently installed).\n",
      "  from pandas.core import (\n"
     ]
    },
    {
     "data": {
      "text/plain": [
       "'2.15.0'"
      ]
     },
     "execution_count": 2,
     "metadata": {},
     "output_type": "execute_result"
    }
   ],
   "source": [
    "import tensorflow as tf\n",
    "from tensorflow import keras\n",
    "\n",
    "tf.__version__"
   ]
  },
  {
   "cell_type": "code",
   "execution_count": 3,
   "metadata": {},
   "outputs": [],
   "source": [
    "fashion_mnist = keras.datasets.fashion_mnist\n",
    "(X_train_full, y_train_full), (X_test, y_test) = fashion_mnist.load_data()"
   ]
  },
  {
   "cell_type": "code",
   "execution_count": 4,
   "metadata": {},
   "outputs": [
    {
     "data": {
      "text/plain": [
       "(60000, 28, 28)"
      ]
     },
     "execution_count": 4,
     "metadata": {},
     "output_type": "execute_result"
    }
   ],
   "source": [
    "X_train_full.shape"
   ]
  },
  {
   "cell_type": "code",
   "execution_count": 5,
   "metadata": {},
   "outputs": [
    {
     "data": {
      "text/plain": [
       "dtype('uint8')"
      ]
     },
     "execution_count": 5,
     "metadata": {},
     "output_type": "execute_result"
    }
   ],
   "source": [
    "X_train_full.dtype"
   ]
  },
  {
   "cell_type": "code",
   "execution_count": 6,
   "metadata": {},
   "outputs": [],
   "source": [
    "X_vaild, X_train = X_train_full[:5000] / 255.0, X_train_full[5000:] / 255.0\n",
    "y_vaild, y_train = y_train_full[:5000], y_train_full[5000:]\n",
    "X_test = X_test / 255.0"
   ]
  },
  {
   "cell_type": "code",
   "execution_count": 7,
   "metadata": {},
   "outputs": [],
   "source": [
    "class_name = [\"Tshirts\", \"Trouser\", \"Pullover\", \"Dress\", \"Coat\", \"Sandal\", \"Shirt\", \"Sneaker\", \"Bag\", \"Ankel boot\"]"
   ]
  },
  {
   "cell_type": "code",
   "execution_count": 8,
   "metadata": {},
   "outputs": [
    {
     "data": {
      "text/plain": [
       "'Coat'"
      ]
     },
     "execution_count": 8,
     "metadata": {},
     "output_type": "execute_result"
    }
   ],
   "source": [
    "class_name[y_train[0]]"
   ]
  },
  {
   "cell_type": "code",
   "execution_count": 9,
   "metadata": {},
   "outputs": [],
   "source": [
    "model = keras.models.Sequential()\n",
    "model.add(keras.layers.Flatten(input_shape =[28, 28]))\n",
    "model.add(keras.layers.Dense(300, activation='relu'))\n",
    "model.add(keras.layers.Dense(100, activation='relu'))\n",
    "model.add(keras.layers.Dense(10, activation='softmax'))"
   ]
  },
  {
   "cell_type": "code",
   "execution_count": 10,
   "metadata": {},
   "outputs": [],
   "source": [
    "model = keras.models.Sequential([\n",
    "    keras.layers.Flatten(input_shape=[28, 28]),\n",
    "    keras.layers.Dense(300, activation = 'relu'),\n",
    "    keras.layers.Dense(100, activation = 'relu'),\n",
    "    keras.layers.Dense(10, activation = 'softmax')\n",
    "])\n"
   ]
  },
  {
   "cell_type": "code",
   "execution_count": 11,
   "metadata": {},
   "outputs": [
    {
     "name": "stdout",
     "output_type": "stream",
     "text": [
      "Model: \"sequential_1\"\n",
      "_________________________________________________________________\n",
      " Layer (type)                Output Shape              Param #   \n",
      "=================================================================\n",
      " flatten_1 (Flatten)         (None, 784)               0         \n",
      "                                                                 \n",
      " dense_3 (Dense)             (None, 300)               235500    \n",
      "                                                                 \n",
      " dense_4 (Dense)             (None, 100)               30100     \n",
      "                                                                 \n",
      " dense_5 (Dense)             (None, 10)                1010      \n",
      "                                                                 \n",
      "=================================================================\n",
      "Total params: 266610 (1.02 MB)\n",
      "Trainable params: 266610 (1.02 MB)\n",
      "Non-trainable params: 0 (0.00 Byte)\n",
      "_________________________________________________________________\n"
     ]
    }
   ],
   "source": [
    "model.summary()"
   ]
  },
  {
   "cell_type": "code",
   "execution_count": 21,
   "metadata": {},
   "outputs": [
    {
     "data": {
      "text/plain": [
       "array([[-0.0545393 ,  0.01773049,  0.05813095, ...,  0.04829973,\n",
       "         0.0596267 ,  0.00276413],\n",
       "       [-0.07371745,  0.04690722, -0.03300192, ..., -0.04555696,\n",
       "        -0.05431449,  0.05408752],\n",
       "       [-0.07061888, -0.04614536,  0.03750825, ..., -0.02433618,\n",
       "        -0.06842991, -0.04484485],\n",
       "       ...,\n",
       "       [-0.02720868,  0.06640215,  0.04298832, ...,  0.01677375,\n",
       "         0.08038425, -0.01805631],\n",
       "       [-0.03355198,  0.01668976,  0.06795251, ..., -0.04729486,\n",
       "         0.04190833,  0.05168651],\n",
       "       [ 0.01672411, -0.03230089, -0.01596462, ..., -0.05480928,\n",
       "        -0.05758401, -0.06580784]], dtype=float32)"
      ]
     },
     "execution_count": 21,
     "metadata": {},
     "output_type": "execute_result"
    }
   ],
   "source": [
    "weights, biases = model.layers[1].get_weights()\n",
    "\n",
    "weights"
   ]
  },
  {
   "cell_type": "code",
   "execution_count": 13,
   "metadata": {},
   "outputs": [],
   "source": [
    "model.compile(loss=\"sparse_categorical_crossentropy\", optimizer=\"sgd\", metrics=[\"accuracy\"])"
   ]
  },
  {
   "cell_type": "code",
   "execution_count": 14,
   "metadata": {},
   "outputs": [
    {
     "name": "stdout",
     "output_type": "stream",
     "text": [
      "Epoch 1/30\n",
      "1719/1719 [==============================] - 2s 806us/step - loss: 0.7144 - accuracy: 0.7663 - val_loss: 0.5197 - val_accuracy: 0.8220\n",
      "Epoch 2/30\n",
      "1719/1719 [==============================] - 1s 678us/step - loss: 0.4892 - accuracy: 0.8283 - val_loss: 0.4711 - val_accuracy: 0.8370\n",
      "Epoch 3/30\n",
      "1719/1719 [==============================] - 1s 684us/step - loss: 0.4445 - accuracy: 0.8429 - val_loss: 0.4238 - val_accuracy: 0.8526\n",
      "Epoch 4/30\n",
      "1719/1719 [==============================] - 1s 871us/step - loss: 0.4171 - accuracy: 0.8538 - val_loss: 0.4245 - val_accuracy: 0.8544\n",
      "Epoch 5/30\n",
      "1719/1719 [==============================] - 1s 699us/step - loss: 0.3964 - accuracy: 0.8609 - val_loss: 0.3916 - val_accuracy: 0.8624\n",
      "Epoch 6/30\n",
      "1719/1719 [==============================] - 1s 670us/step - loss: 0.3802 - accuracy: 0.8655 - val_loss: 0.3776 - val_accuracy: 0.8662\n",
      "Epoch 7/30\n",
      "1719/1719 [==============================] - 1s 663us/step - loss: 0.3666 - accuracy: 0.8712 - val_loss: 0.3707 - val_accuracy: 0.8734\n",
      "Epoch 8/30\n",
      "1719/1719 [==============================] - 1s 671us/step - loss: 0.3548 - accuracy: 0.8749 - val_loss: 0.3548 - val_accuracy: 0.8740\n",
      "Epoch 9/30\n",
      "1719/1719 [==============================] - 1s 660us/step - loss: 0.3443 - accuracy: 0.8776 - val_loss: 0.3608 - val_accuracy: 0.8730\n",
      "Epoch 10/30\n",
      "1719/1719 [==============================] - 1s 662us/step - loss: 0.3350 - accuracy: 0.8805 - val_loss: 0.3509 - val_accuracy: 0.8766\n",
      "Epoch 11/30\n",
      "1719/1719 [==============================] - 1s 699us/step - loss: 0.3249 - accuracy: 0.8842 - val_loss: 0.3576 - val_accuracy: 0.8726\n",
      "Epoch 12/30\n",
      "1719/1719 [==============================] - 1s 701us/step - loss: 0.3181 - accuracy: 0.8872 - val_loss: 0.3251 - val_accuracy: 0.8846\n",
      "Epoch 13/30\n",
      "1719/1719 [==============================] - 1s 688us/step - loss: 0.3112 - accuracy: 0.8882 - val_loss: 0.3363 - val_accuracy: 0.8814\n",
      "Epoch 14/30\n",
      "1719/1719 [==============================] - 1s 679us/step - loss: 0.3026 - accuracy: 0.8922 - val_loss: 0.3412 - val_accuracy: 0.8776\n",
      "Epoch 15/30\n",
      "1719/1719 [==============================] - 2s 964us/step - loss: 0.2966 - accuracy: 0.8926 - val_loss: 0.3239 - val_accuracy: 0.8852\n",
      "Epoch 16/30\n",
      "1719/1719 [==============================] - 1s 867us/step - loss: 0.2915 - accuracy: 0.8947 - val_loss: 0.3142 - val_accuracy: 0.8888\n",
      "Epoch 17/30\n",
      "1719/1719 [==============================] - 1s 770us/step - loss: 0.2846 - accuracy: 0.8981 - val_loss: 0.3122 - val_accuracy: 0.8916\n",
      "Epoch 18/30\n",
      "1719/1719 [==============================] - 1s 705us/step - loss: 0.2784 - accuracy: 0.8993 - val_loss: 0.3079 - val_accuracy: 0.8880\n",
      "Epoch 19/30\n",
      "1719/1719 [==============================] - 1s 765us/step - loss: 0.2744 - accuracy: 0.9013 - val_loss: 0.3265 - val_accuracy: 0.8860\n",
      "Epoch 20/30\n",
      "1719/1719 [==============================] - 1s 671us/step - loss: 0.2683 - accuracy: 0.9036 - val_loss: 0.3094 - val_accuracy: 0.8906\n",
      "Epoch 21/30\n",
      "1719/1719 [==============================] - 1s 668us/step - loss: 0.2637 - accuracy: 0.9048 - val_loss: 0.3175 - val_accuracy: 0.8872\n",
      "Epoch 22/30\n",
      "1719/1719 [==============================] - 1s 664us/step - loss: 0.2587 - accuracy: 0.9071 - val_loss: 0.3128 - val_accuracy: 0.8916\n",
      "Epoch 23/30\n",
      "1719/1719 [==============================] - 1s 664us/step - loss: 0.2547 - accuracy: 0.9086 - val_loss: 0.3061 - val_accuracy: 0.8908\n",
      "Epoch 24/30\n",
      "1719/1719 [==============================] - 1s 661us/step - loss: 0.2501 - accuracy: 0.9098 - val_loss: 0.3019 - val_accuracy: 0.8896\n",
      "Epoch 25/30\n",
      "1719/1719 [==============================] - 1s 670us/step - loss: 0.2448 - accuracy: 0.9122 - val_loss: 0.3057 - val_accuracy: 0.8908\n",
      "Epoch 26/30\n",
      "1719/1719 [==============================] - 1s 664us/step - loss: 0.2413 - accuracy: 0.9135 - val_loss: 0.3072 - val_accuracy: 0.8912\n",
      "Epoch 27/30\n",
      "1719/1719 [==============================] - 1s 697us/step - loss: 0.2367 - accuracy: 0.9145 - val_loss: 0.2930 - val_accuracy: 0.8966\n",
      "Epoch 28/30\n",
      "1719/1719 [==============================] - 1s 670us/step - loss: 0.2331 - accuracy: 0.9155 - val_loss: 0.3038 - val_accuracy: 0.8902\n",
      "Epoch 29/30\n",
      "1719/1719 [==============================] - 1s 672us/step - loss: 0.2284 - accuracy: 0.9180 - val_loss: 0.2969 - val_accuracy: 0.8938\n",
      "Epoch 30/30\n",
      "1719/1719 [==============================] - 1s 677us/step - loss: 0.2255 - accuracy: 0.9187 - val_loss: 0.2990 - val_accuracy: 0.8964\n"
     ]
    }
   ],
   "source": [
    "history = model.fit(X_train, y_train, epochs=30, validation_data=(X_vaild, y_vaild))"
   ]
  },
  {
   "cell_type": "code",
   "execution_count": 15,
   "metadata": {},
   "outputs": [
    {
     "name": "stdout",
     "output_type": "stream",
     "text": [
      "(55000, 28, 28)\n",
      "(55000,)\n",
      "(5000, 28, 28)\n",
      "(5000,)\n"
     ]
    }
   ],
   "source": [
    "print(X_train.shape)\n",
    "print(y_train.shape)\n",
    "print(X_vaild.shape)\n",
    "print(y_vaild.shape)"
   ]
  },
  {
   "cell_type": "code",
   "execution_count": 16,
   "metadata": {},
   "outputs": [
    {
     "name": "stdout",
     "output_type": "stream",
     "text": [
      "55000\n",
      "55000\n",
      "5000\n",
      "5000\n"
     ]
    }
   ],
   "source": [
    "print(len(X_train))\n",
    "print(len(y_train))\n",
    "print(len(X_vaild))\n",
    "print(len(y_vaild))\n"
   ]
  },
  {
   "cell_type": "code",
   "execution_count": 17,
   "metadata": {},
   "outputs": [
    {
     "data": {
      "image/png": "[encoded data removed]",
      "text/plain": [
       "<Figure size 800x500 with 1 Axes>"
      ]
     },
     "metadata": {},
     "output_type": "display_data"
    }
   ],
   "source": [
    "import pandas as pd\n",
    "import matplotlib.pyplot as plt\n",
    "\n",
    "pd.DataFrame(history.history).plot(figsize=(8, 5))\n",
    "plt.grid(True)\n",
    "plt.gca().set_ylim(0,1)\n",
    "plt.show()"
   ]
  },
  {
   "cell_type": "code",
   "execution_count": 18,
   "metadata": {},
   "outputs": [
    {
     "name": "stdout",
     "output_type": "stream",
     "text": [
      "313/313 [==============================] - 0s 546us/step - loss: 0.3287 - accuracy: 0.8815\n"
     ]
    },
    {
     "data": {
      "text/plain": [
       "[0.32865872979164124, 0.8815000057220459]"
      ]
     },
     "execution_count": 18,
     "metadata": {},
     "output_type": "execute_result"
    }
   ],
   "source": [
    "model.evaluate(X_test, y_test)"
   ]
  },
  {
   "cell_type": "code",
   "execution_count": 19,
   "metadata": {},
   "outputs": [
    {
     "name": "stdout",
     "output_type": "stream",
     "text": [
      "1/1 [==============================] - 0s 60ms/step\n"
     ]
    },
    {
     "data": {
      "text/plain": [
       "array([[0.  , 0.  , 0.  , 0.  , 0.  , 0.  , 0.  , 0.01, 0.  , 0.99],\n",
       "       [0.  , 0.  , 0.98, 0.  , 0.02, 0.  , 0.  , 0.  , 0.  , 0.  ],\n",
       "       [0.  , 1.  , 0.  , 0.  , 0.  , 0.  , 0.  , 0.  , 0.  , 0.  ]],\n",
       "      dtype=float32)"
      ]
     },
     "execution_count": 19,
     "metadata": {},
     "output_type": "execute_result"
    }
   ],
   "source": [
    "X_new = X_test[:3]\n",
    "y_proba = model.predict(X_new)\n",
    "y_proba.round(2)"
   ]
  },
  {
   "cell_type": "code",
   "execution_count": 24,
   "metadata": {},
   "outputs": [
    {
     "name": "stdout",
     "output_type": "stream",
     "text": [
      "1/1 [==============================] - 0s 67ms/step\n"
     ]
    }
   ],
   "source": [
    "y_pred = model.predict(X_new)\n",
    "# y_pred"
   ]
  },
  {
   "cell_type": "code",
   "execution_count": 25,
   "metadata": {},
   "outputs": [
    {
     "data": {
      "text/plain": [
       "array([[1.7315073e-06, 1.1602971e-06, 4.4023641e-06, 2.6837926e-05,\n",
       "        9.4764155e-06, 3.5946900e-03, 6.2159115e-06, 8.2931118e-03,\n",
       "        6.0079142e-04, 9.8746151e-01],\n",
       "       [2.6596557e-05, 4.1804860e-08, 9.7694892e-01, 4.3413582e-08,\n",
       "        2.0919695e-02, 5.2838831e-12, 2.1046875e-03, 6.8391573e-12,\n",
       "        9.9301168e-08, 4.6209571e-11],\n",
       "       [4.5027127e-07, 9.9999917e-01, 4.8537650e-08, 1.4515119e-07,\n",
       "        1.0316326e-07, 4.3325682e-12, 1.5654388e-09, 4.5770951e-10,\n",
       "        2.9334671e-10, 1.6778512e-12]], dtype=float32)"
      ]
     },
     "execution_count": 25,
     "metadata": {},
     "output_type": "execute_result"
    }
   ],
   "source": [
    "y_pred"
   ]
  },
  {
   "cell_type": "code",
   "execution_count": null,
   "metadata": {},
   "outputs": [],
   "source": []
  },
  {
   "cell_type": "markdown",
   "metadata": {},
   "source": [
    "### Wide & Deep \n",
    "복잡한 패턴 + 간단한 규칙 모두 학습 가능"
   ]
  },
  {
   "cell_type": "code",
   "execution_count": 27,
   "metadata": {},
   "outputs": [
    {
     "name": "stderr",
     "output_type": "stream",
     "text": [
      "WARNING:absl:At this time, the v2.11+ optimizer `tf.keras.optimizers.SGD` runs slowly on M1/M2 Macs, please use the legacy Keras optimizer instead, located at `tf.keras.optimizers.legacy.SGD`.\n"
     ]
    },
    {
     "name": "stdout",
     "output_type": "stream",
     "text": [
      "Epoch 1/20\n",
      "363/363 [==============================] - 0s 523us/step - loss: 2.1980 - val_loss: 0.8596\n",
      "Epoch 2/20\n",
      "363/363 [==============================] - 0s 434us/step - loss: 0.8026 - val_loss: 0.7282\n",
      "Epoch 3/20\n",
      "363/363 [==============================] - 0s 389us/step - loss: 0.7221 - val_loss: 0.6783\n",
      "Epoch 4/20\n",
      "363/363 [==============================] - 0s 379us/step - loss: 0.6781 - val_loss: 0.6409\n",
      "Epoch 5/20\n",
      "363/363 [==============================] - 0s 572us/step - loss: 0.6442 - val_loss: 0.6126\n",
      "Epoch 6/20\n",
      "363/363 [==============================] - 0s 672us/step - loss: 0.6173 - val_loss: 0.5888\n",
      "Epoch 7/20\n",
      "363/363 [==============================] - 0s 399us/step - loss: 0.5952 - val_loss: 0.5713\n",
      "Epoch 8/20\n",
      "363/363 [==============================] - 0s 394us/step - loss: 0.5772 - val_loss: 0.5542\n",
      "Epoch 9/20\n",
      "363/363 [==============================] - 0s 377us/step - loss: 0.5633 - val_loss: 0.5419\n",
      "Epoch 10/20\n",
      "363/363 [==============================] - 0s 382us/step - loss: 0.5503 - val_loss: 0.5308\n",
      "Epoch 11/20\n",
      "363/363 [==============================] - 0s 379us/step - loss: 0.5392 - val_loss: 0.5219\n",
      "Epoch 12/20\n",
      "363/363 [==============================] - 0s 414us/step - loss: 0.5308 - val_loss: 0.5159\n",
      "Epoch 13/20\n",
      "363/363 [==============================] - 0s 378us/step - loss: 0.5214 - val_loss: 0.5077\n",
      "Epoch 14/20\n",
      "363/363 [==============================] - 0s 371us/step - loss: 0.5134 - val_loss: 0.5001\n",
      "Epoch 15/20\n",
      "363/363 [==============================] - 0s 389us/step - loss: 0.5085 - val_loss: 0.4945\n",
      "Epoch 16/20\n",
      "363/363 [==============================] - 0s 370us/step - loss: 0.5027 - val_loss: 0.4901\n",
      "Epoch 17/20\n",
      "363/363 [==============================] - 0s 370us/step - loss: 0.4958 - val_loss: 0.4853\n",
      "Epoch 18/20\n",
      "363/363 [==============================] - 0s 365us/step - loss: 0.4913 - val_loss: 0.4822\n",
      "Epoch 19/20\n",
      "363/363 [==============================] - 0s 405us/step - loss: 0.4863 - val_loss: 0.4777\n",
      "Epoch 20/20\n",
      "363/363 [==============================] - 0s 361us/step - loss: 0.4832 - val_loss: 0.4739\n"
     ]
    }
   ],
   "source": [
    "from sklearn.datasets import fetch_california_housing\n",
    "from sklearn.model_selection import train_test_split\n",
    "from sklearn.preprocessing import StandardScaler\n",
    "\n",
    "housing = fetch_california_housing()\n",
    "X_train_full, X_test, y_train_full, y_test = train_test_split(housing.data, housing.target)\n",
    "X_train, X_valid, y_train, y_valid = train_test_split(X_train_full, y_train_full)\n",
    "\n",
    "scaler = StandardScaler()\n",
    "X_train = scaler.fit_transform(X_train)\n",
    "X_valid = scaler.transform(X_valid)\n",
    "X_test = scaler.transform(X_test)\n",
    "\n",
    "\n",
    "\n",
    "\n",
    "input_ = keras.layers.Input(shape=X_train.shape[1:])\n",
    "hidden1 = keras.layers.Dense(30, activation='relu')(input_)\n",
    "hidden2 = keras.layers.Dense(30, activation='relu')(hidden1)\n",
    "concat = keras.layers.Concatenate()([input_, hidden2])\n",
    "output = keras.layers.Dense(1)(concat)\n",
    "model = keras.Model(inputs =[input_], outputs=[output])\n",
    "\n",
    "model.compile(loss=\"mean_squared_error\", optimizer=keras.optimizers.SGD(learning_rate=0.001))\n",
    "history = model.fit(X_train, y_train, epochs=20, validation_data=(X_valid, y_valid))\n",
    "\n",
    "# y_pred = model.predict()\n",
    "\n"
   ]
  },
  {
   "cell_type": "code",
   "execution_count": 45,
   "metadata": {},
   "outputs": [
    {
     "name": "stdout",
     "output_type": "stream",
     "text": [
      "1/1 [==============================] - 0s 25ms/step\n"
     ]
    },
    {
     "data": {
      "text/plain": [
       "array([[2.0305796],\n",
       "       [2.0849693],\n",
       "       [3.5142972]], dtype=float32)"
      ]
     },
     "execution_count": 45,
     "metadata": {},
     "output_type": "execute_result"
    }
   ],
   "source": [
    "X_new = X_test[:3]\n",
    "y_pred = model.predict(X_new)\n",
    "y_pred"
   ]
  },
  {
   "cell_type": "code",
   "execution_count": 28,
   "metadata": {},
   "outputs": [
    {
     "name": "stdout",
     "output_type": "stream",
     "text": [
      "162/162 [==============================] - 0s 258us/step - loss: 0.4821\n"
     ]
    }
   ],
   "source": [
    "mse_test = model.evaluate(X_test, y_test)"
   ]
  },
  {
   "cell_type": "code",
   "execution_count": 31,
   "metadata": {},
   "outputs": [
    {
     "name": "stdout",
     "output_type": "stream",
     "text": [
      "Epoch 1/20\n",
      "363/363 [==============================] - 0s 447us/step - loss: 0.7309 - val_loss: 0.6609\n",
      "Epoch 2/20\n",
      "363/363 [==============================] - 0s 331us/step - loss: 0.5818 - val_loss: 0.6619\n",
      "Epoch 3/20\n",
      "363/363 [==============================] - 0s 350us/step - loss: 0.5346 - val_loss: 0.4829\n",
      "Epoch 4/20\n",
      "363/363 [==============================] - 0s 385us/step - loss: 0.4659 - val_loss: 0.4482\n",
      "Epoch 5/20\n",
      "363/363 [==============================] - 0s 603us/step - loss: 0.4507 - val_loss: 0.4394\n",
      "Epoch 6/20\n",
      "363/363 [==============================] - 0s 436us/step - loss: 0.4461 - val_loss: 0.4322\n",
      "Epoch 7/20\n",
      "363/363 [==============================] - 0s 345us/step - loss: 0.4341 - val_loss: 0.4236\n",
      "Epoch 8/20\n",
      "363/363 [==============================] - 0s 331us/step - loss: 0.4274 - val_loss: 0.4144\n",
      "Epoch 9/20\n",
      "363/363 [==============================] - 0s 344us/step - loss: 0.4301 - val_loss: 0.4158\n",
      "Epoch 10/20\n",
      "363/363 [==============================] - 0s 346us/step - loss: 0.4258 - val_loss: 0.4064\n",
      "Epoch 11/20\n",
      "363/363 [==============================] - 0s 344us/step - loss: 0.4102 - val_loss: 0.4095\n",
      "Epoch 12/20\n",
      "363/363 [==============================] - 0s 349us/step - loss: 0.4071 - val_loss: 0.3937\n",
      "Epoch 13/20\n",
      "363/363 [==============================] - 0s 345us/step - loss: 0.4007 - val_loss: 0.3895\n",
      "Epoch 14/20\n",
      "363/363 [==============================] - 0s 348us/step - loss: 0.3978 - val_loss: 0.3863\n",
      "Epoch 15/20\n",
      "363/363 [==============================] - 0s 336us/step - loss: 0.3931 - val_loss: 0.3874\n",
      "Epoch 16/20\n",
      "363/363 [==============================] - 0s 336us/step - loss: 0.3927 - val_loss: 0.3789\n",
      "Epoch 17/20\n",
      "363/363 [==============================] - 0s 336us/step - loss: 0.3885 - val_loss: 0.3779\n",
      "Epoch 18/20\n",
      "363/363 [==============================] - 0s 334us/step - loss: 0.3847 - val_loss: 0.3757\n",
      "Epoch 19/20\n",
      "363/363 [==============================] - 0s 332us/step - loss: 0.3895 - val_loss: 0.3744\n",
      "Epoch 20/20\n",
      "363/363 [==============================] - 0s 335us/step - loss: 0.3810 - val_loss: 0.3693\n",
      "162/162 [==============================] - 0s 230us/step - loss: 0.3873\n",
      "1/1 [==============================] - 0s 21ms/step\n"
     ]
    }
   ],
   "source": [
    "model = keras.models.Sequential([\n",
    "    keras.layers.Dense(30, activation='relu', input_shape=X_train.shape[1:]),\n",
    "    keras.layers.Dense(1)\n",
    "\n",
    "])\n",
    "model.compile(loss=\"mse\", optimizer='sgd')\n",
    "history = model.fit(X_train, y_train, epochs=20,\n",
    "                    validation_data = (X_valid, y_valid))\n",
    "\n",
    "mse_test = model.evaluate(X_test, y_test)\n",
    "X_new = X_test[:3]\n",
    "y_pred = model.predict(X_new)\n"
   ]
  },
  {
   "cell_type": "code",
   "execution_count": 44,
   "metadata": {},
   "outputs": [],
   "source": [
    "input_A = keras.layers.Input(shape=[5], name=\"wide_input\")\n",
    "input_B = keras.layers.Input(shape=[6], name=\"deep_input\")\n",
    "hidden1 = keras.layers.Dense(30, activation='relu')(input_B)\n",
    "hidden2 = keras.layers.Dense(30, activation='relu')(hidden1)\n",
    "concat = keras.layers.concatenate([input_A, hidden2])\n",
    "output = keras.layers.Dense(1, name=\"output\")(concat)\n",
    "model = keras.Model(inputs = [input_A, input_B], outputs = [output])"
   ]
  },
  {
   "cell_type": "code",
   "execution_count": 50,
   "metadata": {},
   "outputs": [
    {
     "name": "stderr",
     "output_type": "stream",
     "text": [
      "WARNING:absl:At this time, the v2.11+ optimizer `tf.keras.optimizers.SGD` runs slowly on M1/M2 Macs, please use the legacy Keras optimizer instead, located at `tf.keras.optimizers.legacy.SGD`.\n"
     ]
    }
   ],
   "source": [
    "model.compile(loss=\"mse\", optimizer=keras.optimizers.SGD(learning_rate=1e-3))\n",
    "\n",
    "X_train_A, X_train_B = X_train[:, :5], X_train[:, 2:]\n",
    "X_valid_A, X_valid_B = X_valid[:, :5], X_valid[:, 2:]\n",
    "\n",
    "X_test_A, X_test_B = X_test[:, :5], X_test[:, 2:]\n",
    "X_new_A, X_new_B = X_test_A[:3], X_test_B[:3]\n",
    "\n",
    "# history = model.fit((X_train_A, X_train_B), y_train, epochs=20, \n",
    "#                     validation_data = ((X_valid_A, X_valid_B), y_valid))\n",
    "# mse_test = model.evaluate((X_test_A, X_test_B), y_test)\n",
    "# y_pred = model.predict((X_new_A, X_new_B))\n"
   ]
  },
  {
   "cell_type": "code",
   "execution_count": 51,
   "metadata": {},
   "outputs": [],
   "source": [
    "output = keras.layers.Dense(1, name = \"main_output\")(concat)\n",
    "aux_output = keras.layers.Dense(1, name=\"aux_output\")(hidden2)\n",
    "model = keras.Model(inputs = [input_A, input_B], outputs=[output, aux_output])"
   ]
  },
  {
   "cell_type": "code",
   "execution_count": 52,
   "metadata": {},
   "outputs": [],
   "source": [
    "model.compile(loss = [\"mse\", \"mse\"], loss_weights=[0.9, 0.1], optimizer=\"sgd\")\n"
   ]
  },
  {
   "cell_type": "code",
   "execution_count": 54,
   "metadata": {},
   "outputs": [
    {
     "name": "stdout",
     "output_type": "stream",
     "text": [
      "Epoch 1/20\n",
      "363/363 [==============================] - 0s 621us/step - loss: 1.1539 - main_output_loss: 1.0539 - aux_output_loss: 2.0539 - val_loss: 0.6375 - val_main_output_loss: 0.5752 - val_aux_output_loss: 1.1984\n",
      "Epoch 2/20\n",
      "363/363 [==============================] - 0s 433us/step - loss: 0.6170 - main_output_loss: 0.5597 - aux_output_loss: 1.1325 - val_loss: 0.5472 - val_main_output_loss: 0.4964 - val_aux_output_loss: 1.0051\n",
      "Epoch 3/20\n",
      "363/363 [==============================] - 0s 426us/step - loss: 0.5400 - main_output_loss: 0.4946 - aux_output_loss: 0.9487 - val_loss: 0.4977 - val_main_output_loss: 0.4594 - val_aux_output_loss: 0.8424\n",
      "Epoch 4/20\n",
      "363/363 [==============================] - 0s 424us/step - loss: 0.4964 - main_output_loss: 0.4609 - aux_output_loss: 0.8159 - val_loss: 0.4680 - val_main_output_loss: 0.4391 - val_aux_output_loss: 0.7284\n",
      "Epoch 5/20\n",
      "363/363 [==============================] - 0s 425us/step - loss: 0.4779 - main_output_loss: 0.4503 - aux_output_loss: 0.7260 - val_loss: 0.4515 - val_main_output_loss: 0.4273 - val_aux_output_loss: 0.6691\n",
      "Epoch 6/20\n",
      "363/363 [==============================] - 0s 424us/step - loss: 0.4613 - main_output_loss: 0.4371 - aux_output_loss: 0.6792 - val_loss: 0.4381 - val_main_output_loss: 0.4167 - val_aux_output_loss: 0.6304\n",
      "Epoch 7/20\n",
      "363/363 [==============================] - 0s 424us/step - loss: 0.4519 - main_output_loss: 0.4295 - aux_output_loss: 0.6532 - val_loss: 0.4425 - val_main_output_loss: 0.4239 - val_aux_output_loss: 0.6104\n",
      "Epoch 8/20\n",
      "363/363 [==============================] - 0s 422us/step - loss: 0.4441 - main_output_loss: 0.4223 - aux_output_loss: 0.6401 - val_loss: 0.4263 - val_main_output_loss: 0.4068 - val_aux_output_loss: 0.6017\n",
      "Epoch 9/20\n",
      "363/363 [==============================] - 0s 459us/step - loss: 0.4349 - main_output_loss: 0.4140 - aux_output_loss: 0.6224 - val_loss: 0.4242 - val_main_output_loss: 0.4066 - val_aux_output_loss: 0.5827\n",
      "Epoch 10/20\n",
      "363/363 [==============================] - 0s 475us/step - loss: 0.4291 - main_output_loss: 0.4091 - aux_output_loss: 0.6087 - val_loss: 0.4114 - val_main_output_loss: 0.3940 - val_aux_output_loss: 0.5676\n",
      "Epoch 11/20\n",
      "363/363 [==============================] - 0s 506us/step - loss: 0.4192 - main_output_loss: 0.3995 - aux_output_loss: 0.5967 - val_loss: 0.3974 - val_main_output_loss: 0.3799 - val_aux_output_loss: 0.5550\n",
      "Epoch 12/20\n",
      "363/363 [==============================] - 0s 439us/step - loss: 0.4132 - main_output_loss: 0.3943 - aux_output_loss: 0.5832 - val_loss: 0.3882 - val_main_output_loss: 0.3711 - val_aux_output_loss: 0.5421\n",
      "Epoch 13/20\n",
      "363/363 [==============================] - 0s 442us/step - loss: 0.4319 - main_output_loss: 0.4154 - aux_output_loss: 0.5810 - val_loss: 0.3888 - val_main_output_loss: 0.3712 - val_aux_output_loss: 0.5474\n",
      "Epoch 14/20\n",
      "363/363 [==============================] - 0s 436us/step - loss: 0.4024 - main_output_loss: 0.3838 - aux_output_loss: 0.5703 - val_loss: 0.3926 - val_main_output_loss: 0.3774 - val_aux_output_loss: 0.5294\n",
      "Epoch 15/20\n",
      "363/363 [==============================] - 0s 444us/step - loss: 0.3981 - main_output_loss: 0.3799 - aux_output_loss: 0.5616 - val_loss: 0.3763 - val_main_output_loss: 0.3603 - val_aux_output_loss: 0.5203\n",
      "Epoch 16/20\n",
      "363/363 [==============================] - 0s 446us/step - loss: 0.3942 - main_output_loss: 0.3769 - aux_output_loss: 0.5491 - val_loss: 0.3710 - val_main_output_loss: 0.3554 - val_aux_output_loss: 0.5117\n",
      "Epoch 17/20\n",
      "363/363 [==============================] - 0s 451us/step - loss: 0.3960 - main_output_loss: 0.3799 - aux_output_loss: 0.5402 - val_loss: 0.3636 - val_main_output_loss: 0.3480 - val_aux_output_loss: 0.5036\n",
      "Epoch 18/20\n",
      "363/363 [==============================] - 0s 451us/step - loss: 0.3832 - main_output_loss: 0.3669 - aux_output_loss: 0.5303 - val_loss: 0.3597 - val_main_output_loss: 0.3452 - val_aux_output_loss: 0.4902\n",
      "Epoch 19/20\n",
      "363/363 [==============================] - 0s 439us/step - loss: 0.3803 - main_output_loss: 0.3647 - aux_output_loss: 0.5199 - val_loss: 0.3558 - val_main_output_loss: 0.3416 - val_aux_output_loss: 0.4841\n",
      "Epoch 20/20\n",
      "363/363 [==============================] - 0s 428us/step - loss: 0.3835 - main_output_loss: 0.3689 - aux_output_loss: 0.5149 - val_loss: 0.3509 - val_main_output_loss: 0.3365 - val_aux_output_loss: 0.4801\n"
     ]
    }
   ],
   "source": [
    "history = model.fit(\n",
    "    [X_train_A, X_train_B], [y_train, y_train], epochs = 20, \n",
    "    validation_data = ([X_valid_A, X_valid_B], [y_valid, y_valid])\n",
    ")"
   ]
  },
  {
   "cell_type": "code",
   "execution_count": 55,
   "metadata": {},
   "outputs": [
    {
     "name": "stdout",
     "output_type": "stream",
     "text": [
      "162/162 [==============================] - 0s 573us/step - loss: 0.3654 - main_output_loss: 0.3514 - aux_output_loss: 0.4910\n"
     ]
    }
   ],
   "source": [
    "total_loss, main_loss, aux_loss = model.evaluate(\n",
    "    [X_test_A, X_test_B], [y_test, y_test]\n",
    ")"
   ]
  },
  {
   "cell_type": "code",
   "execution_count": 56,
   "metadata": {},
   "outputs": [
    {
     "data": {
      "text/plain": [
       "0.3653589189052582"
      ]
     },
     "execution_count": 56,
     "metadata": {},
     "output_type": "execute_result"
    }
   ],
   "source": [
    "total_loss\n"
   ]
  },
  {
   "cell_type": "code",
   "execution_count": 58,
   "metadata": {},
   "outputs": [
    {
     "data": {
      "text/plain": [
       "0.35139837861061096"
      ]
     },
     "execution_count": 58,
     "metadata": {},
     "output_type": "execute_result"
    }
   ],
   "source": [
    "main_loss"
   ]
  },
  {
   "cell_type": "code",
   "execution_count": 59,
   "metadata": {},
   "outputs": [
    {
     "data": {
      "text/plain": [
       "0.4910029470920563"
      ]
     },
     "execution_count": 59,
     "metadata": {},
     "output_type": "execute_result"
    }
   ],
   "source": [
    "aux_loss"
   ]
  },
  {
   "cell_type": "code",
   "execution_count": 61,
   "metadata": {},
   "outputs": [
    {
     "name": "stdout",
     "output_type": "stream",
     "text": [
      "1/1 [==============================] - 0s 129ms/step\n"
     ]
    }
   ],
   "source": [
    "y_pred, y_pred_aux = model.predict([X_new_A, X_new_B])"
   ]
  },
  {
   "cell_type": "code",
   "execution_count": 62,
   "metadata": {},
   "outputs": [
    {
     "name": "stdout",
     "output_type": "stream",
     "text": [
      "[[1.9389366]\n",
      " [1.1959481]\n",
      " [1.6609033]] [[2.5295243]\n",
      " [1.0981283]\n",
      " [2.0300467]]\n"
     ]
    }
   ],
   "source": [
    "print(y_pred, y_pred_aux)\n"
   ]
  },
  {
   "cell_type": "code",
   "execution_count": null,
   "metadata": {},
   "outputs": [],
   "source": []
  },
  {
   "cell_type": "code",
   "execution_count": 60,
   "metadata": {},
   "outputs": [
    {
     "ename": "NameError",
     "evalue": "name 'y_pred_aux' is not defined",
     "output_type": "error",
     "traceback": [
      "\u001b[0;31m---------------------------------------------------------------------------\u001b[0m",
      "\u001b[0;31mNameError\u001b[0m                                 Traceback (most recent call last)",
      "Cell \u001b[0;32mIn[60], line 1\u001b[0m\n\u001b[0;32m----> 1\u001b[0m \u001b[38;5;28mprint\u001b[39m(y_pred, \u001b[43my_pred_aux\u001b[49m)\n",
      "\u001b[0;31mNameError\u001b[0m: name 'y_pred_aux' is not defined"
     ]
    }
   ],
   "source": []
  },
  {
   "cell_type": "code",
   "execution_count": null,
   "metadata": {},
   "outputs": [],
   "source": []
  }
 ],
 "metadata": {
  "kernelspec": {
   "display_name": "base",
   "language": "python",
   "name": "python3"
  },
  "language_info": {
   "codemirror_mode": {
    "name": "ipython",
    "version": 3
   },
   "file_extension": ".py",
   "mimetype": "text/x-python",
   "name": "python",
   "nbconvert_exporter": "python",
   "pygments_lexer": "ipython3",
   "version": "3.10.9"
  }
 },
 "nbformat": 4,
 "nbformat_minor": 2
}
