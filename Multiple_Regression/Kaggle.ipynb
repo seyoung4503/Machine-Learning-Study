{
 "cells": [
  {
   "cell_type": "markdown",
   "metadata": {},
   "source": [
    "### Kaggle\n",
    "데이터 분석"
   ]
  },
  {
   "cell_type": "markdown",
   "metadata": {},
   "source": [
    "#### 데이터 분석의 순서 및 개요 \n",
    "데이터 분석 흐름\n",
    "1. 목적, 평가 지표 결정\n",
    "2. 데이터 수집\n",
    "3. 데이터 가공 및 전처리\n",
    "4. 데이터 탐색 및 가시화\n",
    "5. 특징 값 추출\n",
    "6. 모델 작성, 예측 및 분류\n",
    "7. 모델 검증\n"
   ]
  },
  {
   "cell_type": "markdown",
   "metadata": {},
   "source": []
  }
 ],
 "metadata": {
  "kernelspec": {
   "display_name": "base",
   "language": "python",
   "name": "python3"
  },
  "language_info": {
   "name": "python",
   "version": "3.10.9"
  }
 },
 "nbformat": 4,
 "nbformat_minor": 2
}
