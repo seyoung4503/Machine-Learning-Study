{
 "cells": [
  {
   "cell_type": "code",
   "execution_count": 1,
   "metadata": {},
   "outputs": [
    {
     "name": "stderr",
     "output_type": "stream",
     "text": [
      "/Users/seyeong/anaconda3/lib/python3.10/site-packages/pandas/core/arrays/masked.py:60: UserWarning: Pandas requires version '1.3.6' or newer of 'bottleneck' (version '1.3.5' currently installed).\n",
      "  from pandas.core import (\n"
     ]
    }
   ],
   "source": [
    "import numpy as np\n",
    "import tensorflow as tf\n",
    "from tensorflow.keras.models import Sequential\n",
    "from tensorflow.keras.layers import LSTM, Dense, Dropout\n",
    "from sklearn.model_selection import train_test_split\n",
    "from sklearn.preprocessing import StandardScaler"
   ]
  },
  {
   "cell_type": "code",
   "execution_count": 3,
   "metadata": {},
   "outputs": [],
   "source": [
    "data = np.load('datasets/65_MachineryFault.npz', allow_pickle=True)\n",
    "X, y = data['X'], data['y']"
   ]
  },
  {
   "cell_type": "code",
   "execution_count": 5,
   "metadata": {},
   "outputs": [],
   "source": [
    "scaler = StandardScaler()\n",
    "X_scaled = scaler.fit_transform(X)"
   ]
  },
  {
   "cell_type": "code",
   "execution_count": 6,
   "metadata": {},
   "outputs": [],
   "source": [
    "# 데이터셋 분할 (학습 데이터와 테스트 데이터)\n",
    "X_train, X_test, y_train, y_test = train_test_split(X_scaled, y, test_size=0.2, random_state=42)\n"
   ]
  },
  {
   "cell_type": "code",
   "execution_count": 7,
   "metadata": {},
   "outputs": [],
   "source": [
    "# LSTM 모델 정의\n",
    "model = Sequential()\n",
    "model.add(LSTM(units=50, input_shape=(X_train.shape[1], 1), return_sequences=True))\n",
    "model.add(Dropout(0.2))\n",
    "model.add(LSTM(units=50, return_sequences=False))\n",
    "model.add(Dropout(0.2))\n",
    "model.add(Dense(units=1, activation='sigmoid'))\n",
    "\n"
   ]
  },
  {
   "cell_type": "code",
   "execution_count": 8,
   "metadata": {},
   "outputs": [],
   "source": [
    "# 모델 컴파일\n",
    "model.compile(optimizer='adam', loss='binary_crossentropy', metrics=['accuracy'])\n"
   ]
  },
  {
   "cell_type": "code",
   "execution_count": 9,
   "metadata": {},
   "outputs": [
    {
     "name": "stdout",
     "output_type": "stream",
     "text": [
      "Epoch 1/10\n",
      "56250/56250 [==============================] - 172s 3ms/step - loss: 0.1570 - accuracy: 0.9372 - val_loss: 0.1222 - val_accuracy: 0.9517\n",
      "Epoch 2/10\n",
      "56250/56250 [==============================] - 161s 3ms/step - loss: 0.1238 - accuracy: 0.9510 - val_loss: 0.1131 - val_accuracy: 0.9549\n",
      "Epoch 3/10\n",
      "56250/56250 [==============================] - 160s 3ms/step - loss: 0.1178 - accuracy: 0.9533 - val_loss: 0.1125 - val_accuracy: 0.9555\n",
      "Epoch 4/10\n",
      "56250/56250 [==============================] - 166s 3ms/step - loss: 0.1146 - accuracy: 0.9546 - val_loss: 0.1088 - val_accuracy: 0.9570\n",
      "Epoch 5/10\n",
      "56250/56250 [==============================] - 201s 4ms/step - loss: 0.1125 - accuracy: 0.9554 - val_loss: 0.1078 - val_accuracy: 0.9574\n",
      "Epoch 6/10\n",
      "56250/56250 [==============================] - 186s 3ms/step - loss: 0.1107 - accuracy: 0.9560 - val_loss: 0.1056 - val_accuracy: 0.9584\n",
      "Epoch 7/10\n",
      "56250/56250 [==============================] - 184s 3ms/step - loss: 0.1093 - accuracy: 0.9568 - val_loss: 0.1044 - val_accuracy: 0.9587\n",
      "Epoch 8/10\n",
      "56250/56250 [==============================] - 182s 3ms/step - loss: 0.1080 - accuracy: 0.9573 - val_loss: 0.1038 - val_accuracy: 0.9591\n",
      "Epoch 9/10\n",
      "56250/56250 [==============================] - 187s 3ms/step - loss: 0.1068 - accuracy: 0.9577 - val_loss: 0.1017 - val_accuracy: 0.9599\n",
      "Epoch 10/10\n",
      "56250/56250 [==============================] - 188s 3ms/step - loss: 0.1060 - accuracy: 0.9581 - val_loss: 0.1010 - val_accuracy: 0.9603\n"
     ]
    },
    {
     "data": {
      "text/plain": [
       "<keras.src.callbacks.History at 0x16a04ae30>"
      ]
     },
     "execution_count": 9,
     "metadata": {},
     "output_type": "execute_result"
    }
   ],
   "source": [
    "# 모델 학습\n",
    "model.fit(X_train.reshape((X_train.shape[0], X_train.shape[1], 1)), y_train, epochs=10, batch_size=32, validation_data=(X_test.reshape((X_test.shape[0], X_test.shape[1], 1)), y_test))\n"
   ]
  },
  {
   "cell_type": "code",
   "execution_count": 11,
   "metadata": {},
   "outputs": [
    {
     "name": "stdout",
     "output_type": "stream",
     "text": [
      "14063/14063 [==============================] - 13s 880us/step\n"
     ]
    }
   ],
   "source": [
    "# 예측\n",
    "y_pred = model.predict(X_test.reshape((X_test.shape[0], X_test.shape[1], 1)))\n"
   ]
  },
  {
   "cell_type": "code",
   "execution_count": 13,
   "metadata": {},
   "outputs": [
    {
     "name": "stdout",
     "output_type": "stream",
     "text": [
      "[[0.01705359]\n",
      " [0.9999998 ]\n",
      " [0.99999994]\n",
      " ...\n",
      " [0.00313937]\n",
      " [0.99989545]\n",
      " [0.9999999 ]]\n"
     ]
    }
   ],
   "source": [
    "# 결과 출력\n",
    "print(y_pred)   "
   ]
  },
  {
   "cell_type": "code",
   "execution_count": 18,
   "metadata": {},
   "outputs": [
    {
     "name": "stdout",
     "output_type": "stream",
     "text": [
      "14063/14063 [==============================] - 12s 853us/step\n"
     ]
    }
   ],
   "source": [
    "# 이진 클래스로 다시 변환\n",
    "y_pred_prob = model.predict(X_test.reshape((X_test.shape[0], X_test.shape[1], 1)))\n",
    "y_pred = (y_pred_prob > 0.8).astype(int)\n"
   ]
  },
  {
   "cell_type": "code",
   "execution_count": 19,
   "metadata": {},
   "outputs": [
    {
     "name": "stdout",
     "output_type": "stream",
     "text": [
      "Accuracy: 0.95\n"
     ]
    }
   ],
   "source": [
    "from sklearn.metrics import accuracy_score\n",
    "\n",
    "accuracy = accuracy_score(y_test, y_pred.flatten())\n",
    "print(f'Accuracy: {accuracy:.2f}')"
   ]
  }
 ],
 "metadata": {
  "kernelspec": {
   "display_name": "base",
   "language": "python",
   "name": "python3"
  },
  "language_info": {
   "codemirror_mode": {
    "name": "ipython",
    "version": 3
   },
   "file_extension": ".py",
   "mimetype": "text/x-python",
   "name": "python",
   "nbconvert_exporter": "python",
   "pygments_lexer": "ipython3",
   "version": "3.10.9"
  }
 },
 "nbformat": 4,
 "nbformat_minor": 2
}
