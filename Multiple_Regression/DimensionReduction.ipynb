{
 "cells": [
  {
   "cell_type": "markdown",
   "metadata": {},
   "source": [
    "## Dimension Reduction\n",
    "### 차원의 저주\n",
    "차원이 증가할 수록 데이터가 sparse 해진다.\n",
    "\n",
    "### 차원 축소\n",
    "1. 투영 : 모든 훈련 샘플이 고차원 공간 안의 저차원 부분 공간에 놓여 있다고 가정\n",
    "한계 : 스위스 롤 (롤 케이크 차원) 처럼 언제나 투영이 최선은 아님\n",
    "\n",
    "\n",
    "2. 매니폴드 : 고차원 공간에서 휘어지거나 뒤틀린 모양\n",
    "매니폴드 학습 : 매니폴드 가정(고차원 데이터셋이 저차원 매니폴드에 가깝게 놓여 있음을 가정) \n",
    "한계 : 저차원 매니폴드 공간이 원본보다 더 간단하게 표현된다고 가정하는데, 항상 유효하지 않음\n",
    "\n",
    "\n",
    "3. PCA : 주성분 분석\n",
    "데이터에 가까운 초평면을 정의하고 이 평면에 투영\n"
   ]
  },
  {
   "cell_type": "markdown",
   "metadata": {},
   "source": [
    "### 적절한 차원 수 선택하기\n",
    "데이터 시각화를 위한 차원 축소는 2-3차원이 적당하나 훈련 세트의 분산이 95%로 유지하는데 적절한 차원 수를 선택하는 것이 간단하다.\n",
    "\n",
    "1. 분산 이용하는 방법\n",
    "\n",
    "분산이 어느정도(0.95)로 유지되는 데 필요한 최소한의 차원 수를 계산해 설정\n",
    "\n",
    "2. 분산을 차원에 대한 함수로 나타내는 방법\n",
    "\n",
    "cumsum을 그래프로 그려 분산의 성장이 멈추는 변곡점을 알아냄"
   ]
  },
  {
   "cell_type": "code",
   "execution_count": 2,
   "metadata": {},
   "outputs": [
    {
     "name": "stderr",
     "output_type": "stream",
     "text": [
      "/Users/seyeong/anaconda3/lib/python3.10/site-packages/sklearn/datasets/_openml.py:932: FutureWarning: The default value of `parser` will change from `'liac-arff'` to `'auto'` in 1.4. You can set `parser='auto'` to silence this warning. Therefore, an `ImportError` will be raised from 1.4 if the dataset is dense and pandas is not installed. Note that the pandas parser may return different data types. See the Notes Section in fetch_openml's API doc for details.\n",
      "  warn(\n"
     ]
    }
   ],
   "source": [
    "import numpy as np\n",
    "from sklearn.datasets import fetch_openml\n",
    "\n",
    "mnist = fetch_openml('mnist_784', version=1, as_frame=False)\n",
    "mnist.target = mnist.target.astype(np.uint8)"
   ]
  },
  {
   "cell_type": "code",
   "execution_count": 3,
   "metadata": {},
   "outputs": [],
   "source": [
    "from sklearn.model_selection import train_test_split\n",
    "\n",
    "X = mnist[\"data\"]\n",
    "y = mnist[\"target\"]\n",
    "\n",
    "X_train, X_test, y_train, y_test = train_test_split(X, y)"
   ]
  },
  {
   "cell_type": "code",
   "execution_count": 4,
   "metadata": {},
   "outputs": [],
   "source": [
    "from sklearn.decomposition import PCA\n",
    "\n",
    "pca = PCA()\n",
    "pca.fit(X_train)\n",
    "cumsum = np.cumsum(pca.explained_variance_ratio_)\n",
    "d = np.argmax(cumsum >= 0.95 ) + 1"
   ]
  },
  {
   "cell_type": "code",
   "execution_count": 5,
   "metadata": {},
   "outputs": [
    {
     "data": {
      "text/plain": [
       "154"
      ]
     },
     "execution_count": 5,
     "metadata": {},
     "output_type": "execute_result"
    }
   ],
   "source": [
    "d"
   ]
  },
  {
   "cell_type": "code",
   "execution_count": 6,
   "metadata": {},
   "outputs": [],
   "source": [
    "# pca = PCA(n_components=d)\n",
    "pca = PCA(n_components=0.95) # 위와 같다\n",
    "X_reduced = pca.fit_transform(X_train)"
   ]
  },
  {
   "cell_type": "markdown",
   "metadata": {},
   "source": [
    "### 압축을 위한 PCA\n",
    "투영을 통해 차원을 압축한다. 이를 다시 재구성하여 원본 차원으로 비슷하게 복원할 수 있다. \n",
    "(5%의 손실에 대해 복원할 수 없음)\n",
    "\n",
    "- 재구성 오차 : 원본 데이터 - 재구성된 데이터 사이의 평균 제곱 거리"
   ]
  },
  {
   "cell_type": "markdown",
   "metadata": {},
   "source": [
    "### 랜덤 PCA\n",
    "확률적 알고리즘을 사용해 처음 d개의 주성분에 대한 근삿값을 빠르게 찾는다. 축소되는 차원 d가 n보다 매우 작다면 SVD보다 매우 빠르다.\n"
   ]
  },
  {
   "cell_type": "code",
   "execution_count": 7,
   "metadata": {},
   "outputs": [],
   "source": [
    "rnd_pca = PCA(n_components=154, svd_solver=\"randomized\")\n",
    "X_reduced = rnd_pca.fit_transform(X_train)"
   ]
  },
  {
   "cell_type": "code",
   "execution_count": null,
   "metadata": {},
   "outputs": [],
   "source": []
  }
 ],
 "metadata": {
  "kernelspec": {
   "display_name": "base",
   "language": "python",
   "name": "python3"
  },
  "language_info": {
   "codemirror_mode": {
    "name": "ipython",
    "version": 3
   },
   "file_extension": ".py",
   "mimetype": "text/x-python",
   "name": "python",
   "nbconvert_exporter": "python",
   "pygments_lexer": "ipython3",
   "version": "3.10.9"
  }
 },
 "nbformat": 4,
 "nbformat_minor": 2
}
