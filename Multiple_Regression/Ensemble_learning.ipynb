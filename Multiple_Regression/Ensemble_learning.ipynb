{
 "cells": [
  {
   "cell_type": "markdown",
   "metadata": {},
   "source": [
    "# 앙상블 학습\n",
    "여러 모델로부터 예측을 수집, 일련의 예측기를 앙상블\n",
    "\n",
    "### 랜덤 포레스트\n",
    "결정 트리의 앙상블\n"
   ]
  },
  {
   "cell_type": "code",
   "execution_count": null,
   "metadata": {},
   "outputs": [],
   "source": []
  }
 ],
 "metadata": {
  "language_info": {
   "name": "python"
  }
 },
 "nbformat": 4,
 "nbformat_minor": 2
}
