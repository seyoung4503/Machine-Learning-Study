{
 "cells": [
  {
   "cell_type": "code",
   "execution_count": 1,
   "metadata": {},
   "outputs": [],
   "source": [
    "import matplotlib.pyplot as plt\n",
    "import pandas as pd\n",
    "import numpy as np\n",
    "import tensorflow as tf\n",
    "from tensorflow import keras\n",
    "from keras.layers import LSTM, Dropout, Dense, InputLayer\n",
    "from keras.models import Sequential\n",
    "from tensorflow.keras.optimizers import Adam\n",
    "from sklearn.model_selection import TimeSeriesSplit\n",
    "from sklearn.preprocessing import MinMaxScaler\n",
    "import glob\n",
    "import os"
   ]
  },
  {
   "cell_type": "code",
   "execution_count": 2,
   "metadata": {},
   "outputs": [],
   "source": [
    "# npz data to pd.\n",
    "def npz_to_csv(file_path):\n",
    "    file = np.load(file_path, allow_pickle=True)\n",
    "    X_df = pd.DataFrame(file['X'])\n",
    "    y_df = pd.DataFrame(file['y'])\n",
    "    return X_df, y_df"
   ]
  },
  {
   "cell_type": "markdown",
   "metadata": {},
   "source": [
    "Time series 데이터에대하여 Pandas dataframe을 입력으로 받으면 lstm모델로 학습 후, 검증 loss값들과 accuracy값들을 return해주는 함수"
   ]
  },
  {
   "cell_type": "code",
   "execution_count": 51,
   "metadata": {},
   "outputs": [],
   "source": [
    "def create_sequences(data, timestep):\n",
    "    sequences = []\n",
    "    for i in range(len(data) - timestep + 1):\n",
    "        sequences.append(data[i:i + timestep])\n",
    "    return np.array(sequences)\n"
   ]
  },
  {
   "cell_type": "code",
   "execution_count": 54,
   "metadata": {},
   "outputs": [],
   "source": [
    "def train_and_evaluate_lstm(X, y, n_splits=5, epochs=30, batch_size=32, timestep=5):\n",
    "    # 데이터 정규화\n",
    "    scaler = MinMaxScaler()\n",
    "    X_scaled = scaler.fit_transform(X)\n",
    "\n",
    "    # 데이터를 시퀀스로 변환\n",
    "    X_sequences = create_sequences(X_scaled, timestep)\n",
    "    y_sequences = y.iloc[timestep - 1:].values  # 시퀀스에 맞게 y도 변환\n",
    "\n",
    "    tscv = TimeSeriesSplit(n_splits=n_splits)\n",
    "    val_losses = []\n",
    "    val_accs = []\n",
    "\n",
    "    fold = 1\n",
    "    for train_idx, test_idx in tscv.split(X_sequences):\n",
    "        X_train, X_test = X_sequences[train_idx], X_sequences[test_idx]\n",
    "        y_train, y_test = y_sequences[train_idx], y_sequences[test_idx]\n",
    "\n",
    "        display(X_train.shape)\n",
    "        model = Sequential()\n",
    "        model.add(LSTM(input_shape=(timestep, X_train.shape[2]), units=50, return_sequences=True))\n",
    "        model.add(Dropout(0.2))\n",
    "        model.add(LSTM(units=50, return_sequences=False))\n",
    "        model.add(Dropout(0.2))\n",
    "        model.add(Dense(units=1, activation='sigmoid'))\n",
    "\n",
    "        model.compile(optimizer=Adam(learning_rate=0.001), loss='binary_crossentropy', metrics=['accuracy'])\n",
    "\n",
    "        history = model.fit(X_train, y_train, epochs=epochs, batch_size=batch_size, validation_data=(X_test, y_test), verbose=1)\n",
    "\n",
    "        # 가장 좋은 검증 성능을 기록\n",
    "        best_val_loss = min(history.history['val_loss'])\n",
    "        best_val_acc = max(history.history['val_accuracy'])\n",
    "        val_losses.append(best_val_loss)\n",
    "        val_accs.append(best_val_acc)\n",
    "\n",
    "        print(f\"Fold {fold}, Best Validation Loss: {best_val_loss}, Best Validation Accuracy: {best_val_acc}\")\n",
    "\n",
    "        fold += 1\n",
    "\n",
    "    mean_val_loss = np.mean(val_losses)\n",
    "    mean_val_acc = np.mean(val_accs)\n",
    "\n",
    "    print(f\"Mean Best Validation Loss: {mean_val_loss}\")\n",
    "    print(f\"Mean Best Validation Accuracy: {mean_val_acc}\")\n",
    "\n",
    "    return val_losses, val_accs\n"
   ]
  },
  {
   "cell_type": "markdown",
   "metadata": {},
   "source": [
    "val losses와 val acc를 한 번에 plotting하는 함수"
   ]
  },
  {
   "cell_type": "code",
   "execution_count": 48,
   "metadata": {},
   "outputs": [],
   "source": [
    "def plot_validation_metrics(val_losses, val_accs):\n",
    "    num_folds = len(val_losses)\n",
    "    \n",
    "    folds = range(1, num_folds + 1)\n",
    "    \n",
    "    fig, (ax1, ax2) = plt.subplots(2, 1, figsize=(8, 6), sharex=True)\n",
    "    \n",
    "    ax1.plot(folds, val_losses, marker='o', linestyle='-', color='b')\n",
    "    ax1.set_ylabel('Validation Loss')\n",
    "    ax1.set_title('Validation Loss and Accuracy')\n",
    "    ax1.grid(True)\n",
    "    \n",
    "    ax2.plot(folds, val_accs, marker='o', linestyle='-', color='g')\n",
    "    ax2.set_xlabel('Fold')\n",
    "    ax2.set_ylabel('Validation Accuracy')\n",
    "    ax2.grid(True)\n",
    "    \n",
    "    plt.tight_layout()\n",
    "    plt.show()"
   ]
  },
  {
   "cell_type": "markdown",
   "metadata": {},
   "source": [
    "Anomaly data 비율을 나타내는 함수.\n",
    "혹시 너무 accuracy가 정확하게 나오는 경우, 모든 데이터셋에 대하여 0이라고 판단했는데 알고보니 레이블이 0인 데이터의 개수가 엄청나게 많을 수 있음.\n",
    "따라서 항상 의심할 것"
   ]
  },
  {
   "cell_type": "code",
   "execution_count": 7,
   "metadata": {},
   "outputs": [],
   "source": [
    "def get_anomaly_rate(y):\n",
    "    return y.value_counts()[1] / (y.value_counts()[0] + y.value_counts()[1])"
   ]
  },
  {
   "cell_type": "markdown",
   "metadata": {},
   "source": [
    "모든 val_losses와 val_accs를 데이터셋 인덱스에 따라 dictionary로 저장하기 위한 변수"
   ]
  },
  {
   "cell_type": "code",
   "execution_count": 8,
   "metadata": {},
   "outputs": [],
   "source": [
    "val_dict = {}\n",
    "def append_to_val_dict(index, val_loss, val_acc):\n",
    "    val_dict[index] = (val_loss, val_acc)"
   ]
  },
  {
   "cell_type": "markdown",
   "metadata": {},
   "source": [
    "학습 완료된 경우 스프레드시트에 적어주세요!\n",
    "한 데이터셋에 너무 시간을 많이 쓰실 필요는 없습니다. 학습할 내용도 많고 다른 모델도 많이 테스트해봐야 해요.\n",
    "그리고 학습은 각 데이터셋에 대해 시간이 어느정도 소요되기 때문에 학습 과정에서는 다른 공부 하시는걸 추천드립니다."
   ]
  },
  {
   "cell_type": "code",
   "execution_count": 9,
   "metadata": {},
   "outputs": [],
   "source": [
    "# file_path = '/path/to/Classical' 각자가 저장한 폴더로 연결해주세요\n",
    "file_path = './datasets/Classical/*.npz'\n",
    "file_list = glob.glob(file_path)"
   ]
  },
  {
   "cell_type": "code",
   "execution_count": 10,
   "metadata": {},
   "outputs": [
    {
     "data": {
      "text/plain": [
       "['./datasets/Classical\\\\10_smd.npz',\n",
       " './datasets/Classical\\\\11_psm.npz',\n",
       " './datasets/Classical\\\\12_smap.npz',\n",
       " './datasets/Classical\\\\13_msl.npz',\n",
       " './datasets/Classical\\\\14_PlantMonitoring.npz',\n",
       " './datasets/Classical\\\\15_Multistage.npz',\n",
       " './datasets/Classical\\\\16_Helicopter.npz',\n",
       " './datasets/Classical\\\\17_kdd.npz',\n",
       " './datasets/Classical\\\\18_Robotfail.npz',\n",
       " './datasets/Classical\\\\19_Anneal.npz',\n",
       " './datasets/Classical\\\\1_wafer.npz',\n",
       " './datasets/Classical\\\\20_Glass2.npz',\n",
       " './datasets/Classical\\\\21_Engine.npz',\n",
       " './datasets/Classical\\\\22_Castmetal.npz',\n",
       " './datasets/Classical\\\\23_Steelfault.npz',\n",
       " './datasets/Classical\\\\24_Cylinderbands.npz',\n",
       " './datasets/Classical\\\\25_Gasdrift.npz',\n",
       " './datasets/Classical\\\\26_Electricity.npz',\n",
       " './datasets/Classical\\\\27_DElevators.npz',\n",
       " './datasets/Classical\\\\28_Robotnav.npz',\n",
       " './datasets/Classical\\\\29_Megawatt.npz',\n",
       " './datasets/Classical\\\\2_pdm_anreal.npz',\n",
       " './datasets/Classical\\\\30_Demomatlab.npz',\n",
       " './datasets/Classical\\\\31_Milling.npz',\n",
       " './datasets/Classical\\\\32_Flea1.npz',\n",
       " './datasets/Classical\\\\33_Flea2.npz',\n",
       " './datasets/Classical\\\\3_tempSF.npz',\n",
       " './datasets/Classical\\\\4_aidc.npz',\n",
       " './datasets/Classical\\\\5_cfrp.npz',\n",
       " './datasets/Classical\\\\6_tep.npz',\n",
       " './datasets/Classical\\\\7_electra.npz',\n",
       " './datasets/Classical\\\\8_azurepdm.npz',\n",
       " './datasets/Classical\\\\9_skab.npz']"
      ]
     },
     "execution_count": 10,
     "metadata": {},
     "output_type": "execute_result"
    }
   ],
   "source": [
    "file_list"
   ]
  },
  {
   "cell_type": "markdown",
   "metadata": {},
   "source": [
    "폴더안에 자동으로 학습하고 기록하고싶은 데이터만 넣어두고, 이 밑에 코드 돌려두세요."
   ]
  },
  {
   "cell_type": "code",
   "execution_count": 55,
   "metadata": {},
   "outputs": [
    {
     "data": {
      "text/plain": [
       "(118071, 5, 38)"
      ]
     },
     "metadata": {},
     "output_type": "display_data"
    },
    {
     "name": "stdout",
     "output_type": "stream",
     "text": [
      "Epoch 1/30\n",
      "3690/3690 [==============================] - 21s 5ms/step - loss: 0.0633 - accuracy: 0.9850 - val_loss: 0.4734 - val_accuracy: 0.7969\n",
      "Epoch 2/30\n",
      "3690/3690 [==============================] - 19s 5ms/step - loss: 0.0508 - accuracy: 0.9862 - val_loss: 0.8156 - val_accuracy: 0.7209\n",
      "Epoch 3/30\n",
      "3690/3690 [==============================] - 19s 5ms/step - loss: 0.0448 - accuracy: 0.9871 - val_loss: 0.8241 - val_accuracy: 0.7702\n",
      "Epoch 4/30\n",
      "3690/3690 [==============================] - 18s 5ms/step - loss: 0.0385 - accuracy: 0.9892 - val_loss: 0.7368 - val_accuracy: 0.7916\n",
      "Epoch 5/30\n",
      "3690/3690 [==============================] - 18s 5ms/step - loss: 0.0362 - accuracy: 0.9900 - val_loss: 0.7404 - val_accuracy: 0.7864\n",
      "Epoch 6/30\n",
      "3690/3690 [==============================] - 18s 5ms/step - loss: 0.0348 - accuracy: 0.9907 - val_loss: 0.7851 - val_accuracy: 0.7847\n",
      "Epoch 7/30\n",
      "3690/3690 [==============================] - 18s 5ms/step - loss: 0.0331 - accuracy: 0.9912 - val_loss: 1.0577 - val_accuracy: 0.7752\n",
      "Epoch 8/30\n",
      "3690/3690 [==============================] - 18s 5ms/step - loss: 0.0321 - accuracy: 0.9913 - val_loss: 0.6035 - val_accuracy: 0.8192\n",
      "Epoch 9/30\n",
      "3690/3690 [==============================] - 18s 5ms/step - loss: 0.0311 - accuracy: 0.9919 - val_loss: 0.8453 - val_accuracy: 0.7925\n",
      "Epoch 10/30\n",
      " 896/3690 [======>.......................] - ETA: 9s - loss: 0.0317 - accuracy: 0.9920"
     ]
    }
   ],
   "source": [
    "anomaly_rates = {}\n",
    "file_idx = 1\n",
    "for file in file_list:\n",
    "    X, y = npz_to_csv(file)\n",
    "    \n",
    "    anomaly_rates[file_idx] = get_anomaly_rate(y)\n",
    "    val_losses, val_accs = train_and_evaluate_lstm(X, y)\n",
    "    append_to_val_dict(file_idx, val_losses, val_accs)\n",
    "    file_idx += 1\n",
    "    "
   ]
  },
  {
   "cell_type": "code",
   "execution_count": 30,
   "metadata": {},
   "outputs": [
    {
     "data": {
      "text/plain": [
       "'2.10.0'"
      ]
     },
     "execution_count": 30,
     "metadata": {},
     "output_type": "execute_result"
    }
   ],
   "source": [
    "tf.__version__"
   ]
  },
  {
   "cell_type": "code",
   "execution_count": null,
   "metadata": {},
   "outputs": [],
   "source": [
    "# plot_validation_metrics(val_losses, val_accs)\n",
    "# 기록된 dict를 토대로 각 데이터셋에 대해 for문을 돌리던 indexing을 통해(val_dict[idx]~~)\n",
    "# 접근하든 해서 plotting하는 함수입니다. loss 값과 accuracy값을 검증 fold마다 출력해줘요."
   ]
  },
  {
   "cell_type": "code",
   "execution_count": 45,
   "metadata": {},
   "outputs": [
    {
     "data": {
      "image/png": "[encoded data removed]",
      "text/plain": [
       "<Figure size 800x600 with 2 Axes>"
      ]
     },
     "metadata": {},
     "output_type": "display_data"
    },
    {
     "data": {
      "text/plain": [
       "([0.2686212360858917,\n",
       "  0.23416098952293396,\n",
       "  0.21588250994682312,\n",
       "  0.1619134098291397,\n",
       "  0.18443159759044647],\n",
       " [0.935153603553772,\n",
       "  0.9215016961097717,\n",
       "  0.9317406415939331,\n",
       "  0.9385665655136108,\n",
       "  0.935153603553772])"
      ]
     },
     "execution_count": 45,
     "metadata": {},
     "output_type": "execute_result"
    }
   ],
   "source": [
    "# plotting 예시\n",
    "# plot_validation_metrics(val_dict[1][0], val_dict[1][1])\n",
    "plot_validation_metrics(val_dict[1][0], val_dict[1][1])\n",
    "val_dict[1]"
   ]
  },
  {
   "cell_type": "code",
   "execution_count": 44,
   "metadata": {},
   "outputs": [
    {
     "ename": "KeyError",
     "evalue": "13",
     "output_type": "error",
     "traceback": [
      "\u001b[1;31m---------------------------------------------------------------------------\u001b[0m",
      "\u001b[1;31mKeyError\u001b[0m                                  Traceback (most recent call last)",
      "Cell \u001b[1;32mIn[44], line 1\u001b[0m\n\u001b[1;32m----> 1\u001b[0m \u001b[43mval_dict\u001b[49m\u001b[43m[\u001b[49m\u001b[38;5;241;43m13\u001b[39;49m\u001b[43m]\u001b[49m\n",
      "\u001b[1;31mKeyError\u001b[0m: 13"
     ]
    }
   ],
   "source": [
    "val_dict[13]"
   ]
  },
  {
   "cell_type": "code",
   "execution_count": 12,
   "metadata": {},
   "outputs": [],
   "source": [
    "import csv"
   ]
  },
  {
   "cell_type": "code",
   "execution_count": 13,
   "metadata": {},
   "outputs": [],
   "source": [
    "csv_file = \"output_from_17.csv\"\n",
    "\n",
    "fieldnames = [\"Index\", \"val_losses\", \"val_accuracies\"]\n",
    "\n",
    "with open(csv_file, mode='w', newline='') as file:\n",
    "    writer = csv.DictWriter(file, fieldnames=fieldnames)\n",
    "    \n",
    "    # 헤더 작성\n",
    "    writer.writeheader()\n",
    "    \n",
    "    # 데이터 작성\n",
    "    for index, values in val_dict.items():\n",
    "        val_losses = \", \".join([f\"loss {loss}\" for loss in values[0]])\n",
    "        val_accuracies = \", \".join([f\"acc {acc}\" for acc in values[1]])\n",
    "        row = {\n",
    "            \"Index\": index,\n",
    "            \"val_losses\": val_losses,\n",
    "            \"val_accuracies\": val_accuracies\n",
    "        }\n",
    "        writer.writerow(row)\n",
    "        \n"
   ]
  },
  {
   "cell_type": "code",
   "execution_count": null,
   "metadata": {},
   "outputs": [
    {
     "name": "stdout",
     "output_type": "stream",
     "text": [
      "[0.14187614619731903, 0.3102455139160156, 0.16044597327709198, 0.17473368346691132, 0.13264787197113037]\n",
      "[1.8566075563430786, 0.07231798022985458, 0.5649966597557068, 0.9236502647399902, 0.3806503415107727]\n",
      "[0.9585060477256775, 0.26275700330734253, 0.368999719619751, 0.27408382296562195, 0.36846688389778137]\n",
      "[0.2533828318119049, 0.6882942318916321, 0.23714391887187958, 0.17823408544063568, 0.2279973030090332]\n",
      "[2.9358259780565277e-05, 0.014573163352906704, 0.030070213600993156, 0.0008528577163815498, 0.02461107261478901]\n",
      "[0.5553788542747498, 0.07665827870368958, 0.022700773552060127, 0.0006071897805668414, 0.00064460578141734]\n"
     ]
    }
   ],
   "source": [
    "for a in val_dict:\n",
    "    print(val_dict[a][0])"
   ]
  },
  {
   "cell_type": "code",
   "execution_count": null,
   "metadata": {},
   "outputs": [],
   "source": [
    "for file in file_list:\n",
    "    _, y = npz_to_csv(file)\n",
    "    if y[y[0] ==1].size / y.size > 0.1:\n",
    "        proper_datasets.append(file)"
   ]
  }
 ],
 "metadata": {
  "kernelspec": {
   "display_name": "ml_cuda",
   "language": "python",
   "name": "python3"
  },
  "language_info": {
   "codemirror_mode": {
    "name": "ipython",
    "version": 3
   },
   "file_extension": ".py",
   "mimetype": "text/x-python",
   "name": "python",
   "nbconvert_exporter": "python",
   "pygments_lexer": "ipython3",
   "version": "3.10.14"
  }
 },
 "nbformat": 4,
 "nbformat_minor": 2
}
